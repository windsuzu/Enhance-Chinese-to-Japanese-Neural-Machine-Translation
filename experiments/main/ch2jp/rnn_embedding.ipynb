{
 "cells": [
  {
   "cell_type": "markdown",
   "metadata": {},
   "source": [
    "# Import Libraries"
   ]
  },
  {
   "cell_type": "code",
   "execution_count": 20,
   "metadata": {},
   "outputs": [],
   "source": [
    "# Import built-in Python libs\r\n",
    "import random\r\n",
    "import sys\r\n",
    "from pathlib import Path\r\n",
    "from typing import List\r\n",
    "\r\n",
    "# Import data science libs\r\n",
    "import matplotlib.pyplot as plt\r\n",
    "import seaborn as sns\r\n",
    "import numpy as np\r\n",
    "import pandas as pd\r\n",
    "\r\n",
    "# Import deep learning libs\r\n",
    "import pytorch_lightning as pl\r\n",
    "import torchmetrics\r\n",
    "import torch\r\n",
    "import torch.nn as nn\r\n",
    "import torch.nn.functional as F\r\n",
    "import torch.optim as optim\r\n",
    "\r\n",
    "# Import weights & bias\r\n",
    "import wandb\r\n",
    "\r\n",
    "# Import data preprocessing libs\r\n",
    "from tokenizers import Tokenizer\r\n",
    "from torch.utils.data import DataLoader\r\n",
    "\r\n",
    "%matplotlib inline"
   ]
  },
  {
   "cell_type": "code",
   "execution_count": 21,
   "metadata": {},
   "outputs": [],
   "source": [
    "utils_path = Path.cwd().parent / \"utils\"\r\n",
    "sys.path.append(str(utils_path))\r\n",
    "from custom_tokenizer import load_jieba_tokenizer, load_janome_tokenizer"
   ]
  },
  {
   "cell_type": "markdown",
   "metadata": {},
   "source": [
    "# Job Selection"
   ]
  },
  {
   "cell_type": "code",
   "execution_count": 60,
   "metadata": {},
   "outputs": [],
   "source": [
    "job = 1  # 0 - sentencepiece, 1 - language specific\r\n",
    "\r\n",
    "job_name = [\"rnn_sentencepiece_ch2jp\", \"rnn_language_specific_ch2jp\"]\r\n",
    "\r\n",
    "tokenizer_job = [\"sentencepiece\", \"language_specific\"]\r\n",
    "ch_tokenizer_job = [\"ch_tokenizer.json\", \"jieba_tokenizer.json\"]\r\n",
    "jp_tokenizer_job = [\"jp_tokenizer.json\", \"janome_tokenizer.json\"]\r\n",
    "embedding_job = [\"sentencepiece_embedding\", \"language_specific_embedding\"]"
   ]
  },
  {
   "cell_type": "code",
   "execution_count": 61,
   "metadata": {},
   "outputs": [],
   "source": [
    "method = 0\r\n",
    "method_name = [\"semantic\", \"phonetic\", \"meta\", \"concat\"]\r\n",
    "\r\n",
    "ch_embedding_method = [\r\n",
    "    \"ch_embedding.npy\",\r\n",
    "    \"chp_embedding.npy\",\r\n",
    "    \"ch_meta_embedding.npy\",\r\n",
    "    \"ch_concat_embedding.npy\",\r\n",
    "]\r\n",
    "\r\n",
    "jp_embedding_method = [\r\n",
    "    \"jp_embedding.npy\",\r\n",
    "    \"jpp_embedding.npy\",\r\n",
    "    \"jp_meta_embedding.npy\",\r\n",
    "    \"jp_concat_embedding.npy\",\r\n",
    "]\r\n"
   ]
  },
  {
   "cell_type": "markdown",
   "metadata": {},
   "source": [
    "# Config and WandB"
   ]
  },
  {
   "cell_type": "code",
   "execution_count": 42,
   "metadata": {},
   "outputs": [],
   "source": [
    "config = {\r\n",
    "    \"enc_emb_dim\": (300 if method != 3 else 600),\r\n",
    "    \"dec_emb_dim\": (300 if method != 3 else 600),\r\n",
    "    \"enc_hid_dim\": 512,\r\n",
    "    \"dec_hid_dim\": 512,\r\n",
    "    \"enc_dropout\": 0.1,\r\n",
    "    \"dec_dropout\": 0.1,\r\n",
    "    \"lr\": 7e-4,\r\n",
    "    \"batch_size\": 64,\r\n",
    "    \"num_workers\": 12,\r\n",
    "    \"precision\": 16,\r\n",
    "}"
   ]
  },
  {
   "cell_type": "code",
   "execution_count": null,
   "metadata": {},
   "outputs": [],
   "source": [
    "run = wandb.init(\r\n",
    "    project=\"phonetic-translation\",\r\n",
    "    entity=\"windsuzu\",\r\n",
    "    group=\"experiments\",\r\n",
    "    job_type=job_name[job] + \"-\" + method_name[method],\r\n",
    "    config=config,\r\n",
    ")"
   ]
  },
  {
   "cell_type": "markdown",
   "metadata": {},
   "source": [
    "# Download Datasets, Tokenizers, Embedding, DataModule"
   ]
  },
  {
   "cell_type": "markdown",
   "metadata": {},
   "source": [
    "## Raw Data"
   ]
  },
  {
   "cell_type": "code",
   "execution_count": 44,
   "metadata": {},
   "outputs": [],
   "source": [
    "train_data_art = run.use_artifact(\"sampled_train:latest\")\r\n",
    "train_data_dir = train_data_art.download()\r\n",
    "\r\n",
    "dev_data_art = run.use_artifact(\"dev:latest\")\r\n",
    "dev_data_dir = dev_data_art.download()\r\n",
    "\r\n",
    "test_data_art = run.use_artifact(\"test:latest\")\r\n",
    "test_data_dir = test_data_art.download()\r\n",
    "\r\n",
    "data_dir = {\r\n",
    "    \"train\": train_data_dir,\r\n",
    "    \"dev\": dev_data_dir,\r\n",
    "    \"test\": test_data_dir,\r\n",
    "}"
   ]
  },
  {
   "cell_type": "markdown",
   "metadata": {},
   "source": [
    "## Tokenizer"
   ]
  },
  {
   "cell_type": "code",
   "execution_count": 62,
   "metadata": {},
   "outputs": [],
   "source": [
    "tokenizer_art = run.use_artifact(f\"{tokenizer_job[job]}:latest\")\r\n",
    "tokenizer_dir = tokenizer_art.download()\r\n",
    "\r\n",
    "src_tokenizer_dir = Path(tokenizer_dir) / ch_tokenizer_job[job]\r\n",
    "trg_tokenizer_dir = Path(tokenizer_dir) / jp_tokenizer_job[job]"
   ]
  },
  {
   "cell_type": "markdown",
   "metadata": {},
   "source": [
    "## Pretrained Embedding\r\n",
    "\r\n",
    "How to load pretrained embedding ?\r\n",
    "\r\n",
    "> https://pytorch.org/docs/stable/generated/torch.nn.Embedding.html#torch.nn.Embedding.from_pretrained"
   ]
  },
  {
   "cell_type": "code",
   "execution_count": 46,
   "metadata": {},
   "outputs": [
    {
     "name": "stderr",
     "output_type": "stream",
     "text": [
      "wandb: Downloading large artifact sentencepiece_embedding:latest, 732.42MB. 8 files... Done. 0:0:0\n"
     ]
    }
   ],
   "source": [
    "embedding_art = run.use_artifact(f\"{embedding_job[job]}:latest\")\r\n",
    "embedding_dir = embedding_art.download()\r\n",
    "\r\n",
    "ch_embedding_dir = Path(embedding_dir) / ch_embedding_method[method]\r\n",
    "jp_embedding_dir = Path(embedding_dir) / jp_embedding_method[method]"
   ]
  },
  {
   "cell_type": "code",
   "execution_count": 47,
   "metadata": {},
   "outputs": [],
   "source": [
    "src_embedding = np.load(Path(ch_embedding_dir))\r\n",
    "trg_embedding = np.load(Path(jp_embedding_dir))\r\n",
    "\r\n",
    "src_embedding = torch.FloatTensor(src_embedding)\r\n",
    "trg_embedding = torch.FloatTensor(trg_embedding)"
   ]
  },
  {
   "cell_type": "code",
   "execution_count": 48,
   "metadata": {},
   "outputs": [
    {
     "name": "stdout",
     "output_type": "stream",
     "text": [
      "torch.Size([32000, 300])\n",
      "torch.Size([32000, 300])\n"
     ]
    }
   ],
   "source": [
    "print(src_embedding.shape)\r\n",
    "print(trg_embedding.shape)"
   ]
  },
  {
   "cell_type": "markdown",
   "metadata": {},
   "source": [
    "## DataModule"
   ]
  },
  {
   "cell_type": "code",
   "execution_count": 49,
   "metadata": {
    "tags": []
   },
   "outputs": [],
   "source": [
    "class SentencePieceDataModule(pl.LightningDataModule):\r\n",
    "    def __init__(\r\n",
    "        self,\r\n",
    "        data_dir,\r\n",
    "        src_tokenizer_dir,\r\n",
    "        trg_tokenizer_dir,\r\n",
    "        batch_size=128,\r\n",
    "        num_workers=8,\r\n",
    "        pin_memory=True,\r\n",
    "        job=0,\r\n",
    "    ):\r\n",
    "        super().__init__()\r\n",
    "        self.data_dir = data_dir\r\n",
    "        self.src_tokenizer_dir = src_tokenizer_dir\r\n",
    "        self.trg_tokenizer_dir = trg_tokenizer_dir\r\n",
    "        self.batch_size = batch_size\r\n",
    "        self.num_workers = num_workers\r\n",
    "        self.pin_memory = pin_memory\r\n",
    "        self.job = job\r\n",
    "\r\n",
    "    def setup(self, stage=None):\r\n",
    "        self.src_tokenizer = self._load_tokenizer(self.src_tokenizer_dir)\r\n",
    "        self.trg_tokenizer = self._load_tokenizer(self.trg_tokenizer_dir)\r\n",
    "\r\n",
    "        if stage == \"fit\":\r\n",
    "            self.train_set = self._data_preprocess(self.data_dir[\"train\"])\r\n",
    "            self.val_set = self._data_preprocess(self.data_dir[\"dev\"])\r\n",
    "\r\n",
    "        if stage == \"test\":\r\n",
    "            self.test_set = self._data_preprocess(self.data_dir[\"test\"])\r\n",
    "\r\n",
    "    def train_dataloader(self):\r\n",
    "        return DataLoader(\r\n",
    "            self.train_set,\r\n",
    "            self.batch_size,\r\n",
    "            shuffle=True,\r\n",
    "            num_workers=self.num_workers,\r\n",
    "            pin_memory=self.pin_memory,\r\n",
    "            collate_fn=self._data_batching_fn,\r\n",
    "        )\r\n",
    "\r\n",
    "    def val_dataloader(self):\r\n",
    "        return DataLoader(\r\n",
    "            self.val_set,\r\n",
    "            self.batch_size,\r\n",
    "            shuffle=False,\r\n",
    "            num_workers=self.num_workers,\r\n",
    "            pin_memory=self.pin_memory,\r\n",
    "            collate_fn=self._data_batching_fn,\r\n",
    "        )\r\n",
    "\r\n",
    "    def test_dataloader(self):\r\n",
    "        return DataLoader(\r\n",
    "            self.test_set,\r\n",
    "            self.batch_size,\r\n",
    "            shuffle=False,\r\n",
    "            num_workers=self.num_workers,\r\n",
    "            pin_memory=self.pin_memory,\r\n",
    "            collate_fn=self._data_batching_fn,\r\n",
    "        )\r\n",
    "\r\n",
    "    def _read_data_array(self, data_dir):\r\n",
    "        with open(data_dir, encoding=\"utf8\") as f:\r\n",
    "            arr = f.readlines()\r\n",
    "        return arr\r\n",
    "\r\n",
    "    def _load_tokenizer(self, tokenizer_dir, lang=\"ch\"):\r\n",
    "        if self.job == 0:\r\n",
    "            return Tokenizer.from_file(str(tokenizer_dir))\r\n",
    "        else:\r\n",
    "            return (\r\n",
    "                load_jieba_tokenizer(tokenizer_dir)\r\n",
    "                if \"jieba\" in str(tokenizer_dir)\r\n",
    "                else load_janome_tokenizer(tokenizer_dir)\r\n",
    "            )\r\n",
    "\r\n",
    "    def _data_preprocess(self, data_dir):\r\n",
    "        src_txt = self._read_data_array(Path(data_dir) / \"ch.txt\")\r\n",
    "        trg_txt = self._read_data_array(Path(data_dir) / \"jp.txt\")\r\n",
    "        parallel_txt = np.array(list(zip(src_txt, trg_txt)))\r\n",
    "        return parallel_txt\r\n",
    "\r\n",
    "    def _data_batching_fn(self, data_batch):\r\n",
    "        data_batch = np.array(data_batch)  # shape=(batch_size, 2=src+trg)\r\n",
    "\r\n",
    "        src_batch = data_batch[:, 0]  # shape=(batch_size, )\r\n",
    "        trg_batch = data_batch[:, 1]  # shape=(batch_size, )\r\n",
    "\r\n",
    "        # src_batch=(batch_size, longest_sentence)\r\n",
    "        # trg_batch=(batch_size, longest_sentence)\r\n",
    "        src_batch = self.src_tokenizer.encode_batch(src_batch)\r\n",
    "        trg_batch = self.trg_tokenizer.encode_batch(trg_batch)\r\n",
    "\r\n",
    "        # We have to sort the batch by their non-padded lengths in descending order,\r\n",
    "        # because the descending order can help in `nn.utils.rnn.pack_padded_sequence()`,\r\n",
    "        # which it will help us ignoring the <pad> in training rnn.\r\n",
    "        # https://meetonfriday.com/posts/4d6a906a\r\n",
    "        src_batch, trg_batch = zip(\r\n",
    "            *sorted(\r\n",
    "                zip(src_batch, trg_batch),\r\n",
    "                key=lambda x: sum(x[0].attention_mask),\r\n",
    "                reverse=True,\r\n",
    "            )\r\n",
    "        )\r\n",
    "\r\n",
    "        return src_batch, trg_batch"
   ]
  },
  {
   "cell_type": "code",
   "execution_count": 51,
   "metadata": {},
   "outputs": [],
   "source": [
    "dm = SentencePieceDataModule(\r\n",
    "    data_dir,\r\n",
    "    src_tokenizer_dir,\r\n",
    "    trg_tokenizer_dir,\r\n",
    "    config[\"batch_size\"],\r\n",
    "    config[\"num_workers\"],\r\n",
    "    job=job,\r\n",
    ")"
   ]
  },
  {
   "cell_type": "markdown",
   "metadata": {},
   "source": [
    "### Test DataModule"
   ]
  },
  {
   "cell_type": "code",
   "execution_count": 52,
   "metadata": {
    "tags": []
   },
   "outputs": [],
   "source": [
    "dm.setup(\"test\")"
   ]
  },
  {
   "cell_type": "code",
   "execution_count": 53,
   "metadata": {},
   "outputs": [
    {
     "name": "stdout",
     "output_type": "stream",
     "text": [
      "32000 32000\n",
      "3\n"
     ]
    }
   ],
   "source": [
    "input_dim = dm.src_tokenizer.get_vocab_size()\n",
    "output_dim = dm.trg_tokenizer.get_vocab_size()\n",
    "print(input_dim, output_dim)\n",
    "\n",
    "src_pad_idx = dm.src_tokenizer.token_to_id(\"[PAD]\")\n",
    "print(src_pad_idx)"
   ]
  },
  {
   "cell_type": "code",
   "execution_count": 55,
   "metadata": {},
   "outputs": [
    {
     "name": "stdout",
     "output_type": "stream",
     "text": [
      "64 Encoding(num_tokens=103, attributes=[ids, type_ids, tokens, offsets, attention_mask, special_tokens_mask, overflowing]) ['[BOS]', '_日本', '从', '世界', '各国', '进口', '酱', '油', '等的', '各种', '调', '料', '_,', '_但', '公', '知', '的是在', '制造', '过程中', '致癌性', '物质的', '氯', '丙', '醇', '类', '作为', '副', '产品', '生成', '_3', '_-', '_氯', '_-', '_1', '_,', '_2', '_-', '_丙', '二醇', '_(', '_3', '_-', '_M', 'CP', 'D', '_)', '_、', '_1', '_,', '_3', '_-', '_二氯', '_-', '_2', '_-', '_丙', '醇', '_(', '_1', '_,', '_3', '_-', '_D', 'CP', '_)', '_、', '_2', '_-', '_氯', '_-', '_1', '_,', '_3', '_-', '_丙', '二醇', '_(', '_2', '_-', '_M', 'CP', 'D', '_)', '_以及', '_2', '_,', '_3', '_-', '_二氯', '_-', '_1', '_丙', '醇', '_(', '_2', '_,', '_3', '_-', '_D', 'CP', '_)', '_。', '[EOS]']\n",
      "64 Encoding(num_tokens=115, attributes=[ids, type_ids, tokens, offsets, attention_mask, special_tokens_mask, overflowing]) ['[BOS]', '_日本', 'へ', 'は世界', '各', '国', 'から', '醤', '油', 'などの', '種々の', '調', '味', '料', 'が', '輸入', 'されているが', '_,', '_製造', '過程', '中で', '発癌', '性', '物質の', 'クロロ', 'プロ', 'パ', 'ノール', '類が', '副', '産物', 'として', '_3', '_−', '_クロロ', '_−', '_1', '_,', '_2', '_−', '_プロ', 'パン', 'ジオ', 'ール', '_(', '_3', '_−', '_M', 'CP', 'D', '_)', '_,', '_1', '_,', '_3', '_−', '_ジクロロ', '_−', '_2', '_−', '_プロ', 'パ', 'ノール', '_(', '_1', '_,', '_3', '_−', '_D', 'CP', '_)', '_,', '_2', '_−', '_クロロ', '_−', '_1', '_,', '_3', '_−', '_プロ', 'パン', 'ジオ', 'ール', '_(', '_2', '_−', '_M', 'CP', 'D', '_)', '_および', '_2', '_,', '_3', '_−', '_ジクロロ', '_−', '_1', '_プロ', 'パ', 'ノール', '_(', '_2', '_,', '_3', '_−', '_D', 'CP', '_)', '_が', '生成される', 'ことが知られている', '_。', '[EOS]']\n"
     ]
    }
   ],
   "source": [
    "for src, trg in dm.test_dataloader():\r\n",
    "    print(len(src), src[0], src[0].tokens)\r\n",
    "    print(len(trg), trg[0], trg[0].tokens)\r\n",
    "    break"
   ]
  },
  {
   "cell_type": "markdown",
   "metadata": {},
   "source": [
    "# Build Lightning Model"
   ]
  },
  {
   "cell_type": "markdown",
   "metadata": {},
   "source": [
    "## Encoder"
   ]
  },
  {
   "cell_type": "markdown",
   "metadata": {
    "tags": []
   },
   "source": [
    "\n",
    "\n",
    "![](../assets/bi_encoder.png)\n",
    "\n",
    "首先我們先輸入 embeded 過後的字來計算正向和反向的 hidden state:\n",
    "\n",
    "$$\n",
    "h_\\overrightarrow{t} = \\overrightarrow{\\text{EncoderGRU}}(\\text{emb}(x_\\overrightarrow{t}), h_\\overrightarrow{t-1})\n",
    "\\\\\n",
    "h_\\overleftarrow{t} = \\overleftarrow{\\text{EncoderGRU}}(\\text{emb}(x_\\overleftarrow{t}), h_\\overleftarrow{t-1})\n",
    "$$\n",
    "\n",
    "得到的 `outputs` 代表所有最後一層的 hidden states 的組合，我們會用 outputs 來計算 attention，也就是翻譯時要注意原句的哪些單字:\n",
    "\n",
    "$$\n",
    "h_1 = [h_\\overrightarrow{1}; h_\\overleftarrow{1}], h_2 = [h_\\overrightarrow{2}; h_\\overleftarrow{2}], \\\\\n",
    "\\text{outputs} = H = \\left\\{h_1, h_2, \\cdots, h_T\\right\\}\n",
    "$$\n",
    "\n",
    "得到的 `hidden` 代表每一層最後一個時間點的 hidden states 的疊加，我們會用 hidden 做為 decoder 初始的 context vector `s0`:\n",
    "\n",
    "$$\n",
    "\\overrightarrow{z} = h_\\overrightarrow{T} \\\\\n",
    "\\overleftarrow{z} = h_\\overleftarrow{T}\n",
    "$$\n",
    "\n",
    "因為 decoder 不是雙向，所以我們把 hidden 丟進一個 linear `g` 和 `tanh` 裡獲得濃縮後的 context vector `z`:\n",
    "\n",
    "$$\n",
    "z = \\tanh(g(\\text{cat}(\\overrightarrow{z}, \\overleftarrow{z}))) = s_0\n",
    "$$\n",
    "\n",
    "\n",
    "\n",
    "### Inputs\n",
    "\n",
    "| variables   | use                                             | note                                              |\n",
    "| ----------- | ----------------------------------------------- | ------------------------------------------------- |\n",
    "| src         | 初始語言資料                                    | `shape=[batch_size, src_len]` (batch-first shape) |\n",
    "| src_len     | batch 中每個句子的真實長度                      | `shape=[batch_size]`                              |\n",
    "| input_dim   | 初始語言的 vocab_size                           | `src_tokenizer.get_vocab_size()`                  |\n",
    "| emb_dim     | embedding_size                                  ||\n",
    "| enc_hid_dim | Encoder 中 rnn 的 hidden_size                   ||\n",
    "| dec_hid_dim | Decoder 中 rnn 的 hidden_size                   ||\n",
    "| rnn         | 雙向 GRU, 吃 batch-first 的資料                 | `nn.GRU(emb_dim, enc_hid_dim, bidirectional = True, batch_first=True)`|\n",
    "| fc          | 將雙向 context vector 輸出成單個 context vector | `nn.Linear(enc_hid_dim * 2, dec_hid_dim)`|\n",
    "\n",
    "### Outputs\n",
    "\n",
    "| variables        | use                                            | note                                     |\n",
    "| ---------------- | ---------------------------------------------- | ---------------------------------------- |\n",
    "| packed_embedded  | 將 `[PAD]` 刪掉包裝成 packed 格式              | `PackedSequence`                         |\n",
    "| packed_outputs   | 沒有 `[PAD]` 的最後一層 hidden_states          | `PackedSequence`                         |\n",
    "| enc_outputs      | 有 `[PAD]` 的最後一層 hidden_states            | `shape=[batch_size, src_len, enc_hid_dim*2]` |\n",
    "| hidden           | 所有 layer 疊加的 context_vector               | `shape=[layer*2, batch_size, enc_hid_dim]`   |\n",
    "| hidden[:2, :, :] | 最上面 forward layer 的 hidden_state           | `shape=[batch_size, enc_hid_dim]`            |\n",
    "| hidden[:1, :, :] | 最上面 backward layer 的 hidden_state          | `shape=[batch_size, enc_hid_dim]`            |\n",
    "| last_hidden      | 透過 torch.cat 組合最後一層 forward + backward | `shape=[batch_size, enc_hid_dim*2]`          |\n",
    "| dec_hidden       | 經過 tanh + fc 得到的 context_vector           | `shape=[batch_size, dec_hid_dim]`\n",
    "\n",
    "> - **Terminology Alert**😪:\n",
    ">   - **outputs** 可以想成所有時間點的最後一層的 hidden_states 所組成\n",
    ">   - **hidden** 可以想成所有 layer (forward + backward) 在最後時間點的 hidden_states 堆疊而成的 context_vector\n",
    "\n",
    "問題一: 什麼是 packed_sequence?\n",
    "> - [[Pytorch]Pack the data to train variable length sequences](https://meetonfriday.com/posts/4d6a906a)\n",
    "\n",
    "問題二: outputs 和 hidden 差在哪?\n",
    "> - [学会区分 RNN 的 output 和 state](https://zhuanlan.zhihu.com/p/28919765)\n",
    "> - [LSTM/GRU中output和hidden的区别//其他问题](https://blog.csdn.net/yagreenhand/article/details/84893493)\n",
    "\n",
    "<img src=\"../assets/output_vs_hidden.png\" width=400>"
   ]
  },
  {
   "cell_type": "code",
   "execution_count": 13,
   "metadata": {
    "tags": []
   },
   "outputs": [],
   "source": [
    "class Encoder(nn.Module):\r\n",
    "    def __init__(self, input_dim, emb_dim, enc_hid_dim, dec_hid_dim, dropout):\r\n",
    "        super().__init__()\r\n",
    "        self.embedding = nn.Embedding.from_pretrained(src_embedding)\r\n",
    "        self.rnn = nn.GRU(emb_dim, enc_hid_dim, bidirectional=True, batch_first=True)\r\n",
    "        self.fc = nn.Linear(enc_hid_dim * 2, dec_hid_dim)\r\n",
    "        self.dropout = nn.Dropout(dropout)\r\n",
    "\r\n",
    "    def forward(self, src, src_len):\r\n",
    "        # src     = [batch_size, src_len]\r\n",
    "        # src_len = [batch_size]\r\n",
    "\r\n",
    "        embedded = self.dropout(self.embedding(src))\r\n",
    "        # embedded = [batch_size, src_len, emb_dim]\r\n",
    "        \r\n",
    "        packed_embedded = nn.utils.rnn.pack_padded_sequence(embedded, src_len.to(\"cpu\"), batch_first=True)\r\n",
    "        packed_outputs, hidden = self.rnn(packed_embedded)\r\n",
    "        # packed_outputs is a packed sequence containing all hidden states\r\n",
    "        # hidden is now from the final non-padded element in the batch\r\n",
    "\r\n",
    "        enc_outputs, _ = nn.utils.rnn.pad_packed_sequence(packed_outputs, batch_first=True)\r\n",
    "        # enc_outputs is now a non-packed sequence\r\n",
    "\r\n",
    "        # enc_outputs = [batch_size, src_len, enc_hid_dim*num_directions]\r\n",
    "        #             = [forward_n + backward_n]\r\n",
    "        #             = [last layer]\r\n",
    "\r\n",
    "        # hidden  = [n_layers*num_directions, batch_size, enc_hid_dim]\r\n",
    "        #         = [forward_1, backward_1, forward_2, backword_2, ...]\r\n",
    "\r\n",
    "        # hidden[-2, :, : ] is the last of the forwards RNN\r\n",
    "        # hidden[-1, :, : ] is the last of the backwards RNN\r\n",
    "\r\n",
    "        last_hidden = torch.cat((hidden[-2, :, :], hidden[-1, :, :]), dim=1)\r\n",
    "        init_dec_hidden = torch.tanh(self.fc(last_hidden))\r\n",
    "\r\n",
    "        # enc_outputs     = [batch_size, src_len, enc_hid_dim*2]  (we only have 1 layer)\r\n",
    "        # init_dec_hidden = [batch_size, dec_hid_dim]\r\n",
    "\r\n",
    "        return enc_outputs, init_dec_hidden"
   ]
  },
  {
   "cell_type": "markdown",
   "metadata": {},
   "source": [
    "## Attention"
   ]
  },
  {
   "cell_type": "markdown",
   "metadata": {
    "tags": []
   },
   "source": [
    "![](../assets/seq2seq_encoder_attention.png)\n",
    "\n",
    "先說結論，每次 attention layer 會產生一個 `src_len` 長度的陣列，代表在預測下一個字 $\\hat{y}_{t+1}$ 的時間點時，對原句 `src` 中每一個 token 的專注度有多高。\n",
    "\n",
    "🤯 每次需要給 attention layer 什麼?\n",
    "\n",
    "1. decoder 前一個時間點的 hidden state $s_{t-1}$ (i.e., 第一個就是 encoder 的 `hidden` $z$ 也就是 $s_0$)\n",
    "2. encoder 的 `outputs` $H$\n",
    "\n",
    "而 attention layer 其實只是一個 linear layer，用來和 `tanh` 一起計算出一個能量值 $E_t$:\n",
    "\n",
    "$$\n",
    "E_t = \\tanh(\\text{attn}(s_{t-1}, H))\n",
    "$$\n",
    "\n",
    "因為 `enc_outputs` 的長度是 `src_len`，而 `hidden` 只是一個 scalar，所以我們必須把 `hidden` 拉到跟 `enc_outputs` 一樣長。 計算出來的 $E_t$ 可以想像成 `encoder_outputs` $H$ 和 `previous_decoder_hidden_state` $s_{t-1}$ 有多匹配。\n",
    "\n",
    "因為算出來的能量值 $E_t$ 形狀是 `[src_len, hid_dim]`，我們可以把他帶入一個形狀是 `[hid_dim, 1]` linear layer $v$。最終得到一個形狀是 `[src_len]` 的 `attention_sequence`:\n",
    "\n",
    "$$\n",
    "\\hat{a}_t = v(E_t)\n",
    "$$\n",
    "\n",
    "你可以想像 $v$ 裡面學習到的參數是一個權重，告訴我們能量值 $E_t$ 作用在 `encoder_outputs` 中每個 token 的權重有多少。\n",
    "\n",
    "最後的最後， attention_sequence 會通過 softmax 讓所有機率加總為 1，其中會把 `attention_sequence` 和 `mask` 結合，讓對應在 [PAD] index 的 hidden state 都變成 -1e10 (會讓他們在套入 softmax 後變成 0)。\n",
    "\n",
    "$$\n",
    "a_t = \\text{softmax}(\\hat{a}_t)\n",
    "$$\n",
    "\n",
    "這個 $a_t$ 正是告訴我們在 decode 的當下，要注視原句的哪些 token!\n",
    "\n",
    "\n",
    "\n",
    "\n",
    "\n",
    "### Inputs\n",
    "\n",
    "| variable        | use                                                   | note                                          |\n",
    "| --------------- | ----------------------------------------------------- | --------------------------------------------- |\n",
    "| hidden          | encoder_hidden $s_0$ 或是 decoder_hidden $s_{t-1}$     | `shape=[batch_size, dec_hid_dim]`              |\n",
    "| encoder_outputs | encoder_outputs $H$，也就是 encoder 最後一層的 hidden_states   | `shape=[batch_size, src_len, enc_hid_dim * 2]` |\n",
    "| mask            | 用來遮罩的 tensor，1 是真實的 token，0 是 [PAD]            | `shape=[batch_size, src_len]`      |\n",
    "| attn            | 用來匹配 `enc_outputs` 和 `hidden` 的 attention layer | `linear(enc_hid*2+dec_hid, dec_hid)` |\n",
    "| v               | 用來學習 `attention` 權重的 linear layer              | `linear(dec_hid, 1)`                 |\n",
    "\n",
    "### Outputs\n",
    "\n",
    "| variable              | use                                                                                                       | note                                       |\n",
    "| --------------------- | --------------------------------------------------------------------------------------------------------- | ------------------------------------------ |\n",
    "| energy                | 計算 attention sequence 的第一個產物，將 hidden+encoder_outputs 組合後，透過 attention_layer 和 tanh 算出 | `shape=[batch_size, src_len, dec_hid_dim]` |\n",
    "| attention             | 將能量值 `energy` 丟入 `v` 中學習權重後產生的 attention sequence，但還沒處理 padding                      | `shape=[batch_size, src_len]`              |\n",
    "| attention.masked_fill | 把 attention sequence 當中，index 是 [PAD] 的地方改成 -1e10，讓他們通過 softmax 都會變成 0    | `tensor.masked_fill(mask, dim=n)` |                                                                                                         |"
   ]
  },
  {
   "cell_type": "code",
   "execution_count": 14,
   "metadata": {
    "tags": []
   },
   "outputs": [],
   "source": [
    "class Attention(nn.Module):\n",
    "    def __init__(self, enc_hid_dim, dec_hid_dim):\n",
    "        super().__init__()\n",
    "        self.attn = nn.Linear((enc_hid_dim * 2) + dec_hid_dim, dec_hid_dim)\n",
    "        self.v = nn.Linear(dec_hid_dim, 1, bias=False)\n",
    "\n",
    "    def forward(self, hidden, encoder_outputs, mask):\n",
    "\n",
    "        # hidden = [batch_size, dec_hid_dim]\n",
    "        # encoder_outputs = [batch_size, src_len, enc_hid_dim * 2]\n",
    "\n",
    "        src_len = encoder_outputs.shape[1]\n",
    "        hidden = hidden.unsqueeze(1).repeat(1, src_len, 1)\n",
    "        \n",
    "        # hidden = [batch_size, 1, dec_hid_dim]        (unsqueeze 1)\n",
    "        #        = [batch_size, src_len, dec_hid_dim]  (repeat)\n",
    "        \n",
    "        stacked_hidden = torch.cat((hidden, encoder_outputs), dim=2)\n",
    "        # stacked_hidden = [batch_size, src_len, dec_hid_dim + enc_hid_dim * 2]\n",
    "\n",
    "        energy = torch.tanh(self.attn(stacked_hidden))\n",
    "        # energy = [batch_size, src_len, dec_hid_dim]\n",
    "\n",
    "        attention = self.v(energy).squeeze(2)\n",
    "        # attention = [batch_size, src_len, 1]   (v)\n",
    "        #           = [batch_size, src_len]      (squeeze)\n",
    "\n",
    "        attention = attention.masked_fill(mask == 0, -(2**15))\n",
    "\n",
    "        return F.softmax(attention, dim=1)"
   ]
  },
  {
   "cell_type": "markdown",
   "metadata": {},
   "source": [
    "## Decoder"
   ]
  },
  {
   "cell_type": "markdown",
   "metadata": {
    "tags": []
   },
   "source": [
    "\n",
    "\n",
    "![](../assets/seq2seq_decoder_attention.png)\n",
    "\n",
    "Attention 機制會用前一個時間點 $t-1$ 的 `hidden` $s_{t-1}$ 和代表整個原句的 `encoder_outputs` $H$，計算出現在時間點 $t$ 的 attention vector $a_t$\n",
    "\n",
    "$$\n",
    "\\begin{aligned}\n",
    "E_t &= \\tanh(\\text{attn}(s_{t-1}, H)) \\\\\n",
    "\\hat{a}_t &= vE_t \\\\\n",
    "a_t &= \\text{softmax}(\\hat{a}_t)\n",
    "\\end{aligned}\n",
    "$$\n",
    "\n",
    "接著，我們再使用 $a_t$ 對 $H$ 進行 `matrix-matrix product`，找出真正能表達原句中，對每個 token 專注力的 `weighted_sum` $w_t$。\n",
    "\n",
    "$$\n",
    "w_t = a_tH\n",
    "$$\n",
    "\n",
    "接著就可以通過 `decoderGRU` 計算現在時間點 $t$ 的 `hidden` $s_t$:\n",
    "\n",
    "$$\n",
    "s_t = \\text{DecoderGRU}(d(y_t), w_t, s_{t-1})\n",
    "$$\n",
    "\n",
    "材料有:\n",
    "\n",
    "1. embedded token $d(y_t)$ (例圖中 decoder 的 `<sos>` 經過 embedding 的結果)\n",
    "2. 上面算出來的 weighted source vector $w_t$\n",
    "3. 前一個時間點的 decoder 的 `hidden` $s_{t-1}$\n",
    "\n",
    "預測下一個 token $\\hat{y}_{t+1}$ 就很簡單了，只要把東西都備齊，放進 linear layer `fc_out` 就好:\n",
    "\n",
    "$$\n",
    "\\hat{y}_{t+1} = f(d(y_t), w_t, s_t)\n",
    "$$\n",
    "\n",
    "### Inputs\n",
    "\n",
    "| variable        | use                                                | note                                                        |\n",
    "| --------------- | -------------------------------------------------- | ----------------------------------------------------------- |\n",
    "| inp           | 在現在時間點 $t$ 時輸入到 decoder 的 token         | `shape=[batch_size]`                                        |\n",
    "| hidden          | 前一個時間點 $t-1$ 的 hidden state                 | `shape=[batch_size, dec_hid_dim]`                           |\n",
    "| encoder_outputs | Encoder 最後一層的 hidden_states $H$               | `shape=[batch_size, src_len, enc_hid_dim*2]`                |\n",
    "| mask            | 給 attention 用來無視 `[PAD]` 的 0/1s              | `shape=[batch_size, src_len]`                               |\n",
    "| output_dim      | 目標語言的 `vocab_size`，用來當 embedding 輸出大小 | `trg_tokenizer.get_vocab_size()`                            |\n",
    "| rnn             | 單層且單向的 GRU，吃 batch_first 的資料            | `GRU(enc_hid_dim*2+emb_dim, dec_hid_dim, batch_first=True)` |\n",
    "| fc_out          | 預測下一個 token 的 linear layer                   | `Linear(enc_hid_dim*2+dec_hid_dim+emb_dim, output_dim)`     |\n",
    "\n",
    "### Outputs\n",
    "\n",
    "| variable   | use                                                  | note                                          |\n",
    "| ---------- | ---------------------------------------------------- | --------------------------------------------- |\n",
    "| a          | attention vector                                     | `shape=[batch_size, src_len]`                 |\n",
    "| embedded   | input token 經過 embedding 得到的結果                | `shape=[batch_size, emb_dim]`                 |\n",
    "| weighted   | attention 和 encoder_outputs 乘積得到的 weighted sum | `shape=[batch_size, src_len]`                 |\n",
    "| rnn_input  | embedded 和 weighted 堆疊                            | `shape=[batch_size, enc_hid_dim*2 + emb_dim]` |\n",
    "| output     | DecoderGRU 的 hidden state $s_t$                     | `shape=[batch_size, dec_hid_dim]`             |\n",
    "| hidden     | DecoderGRU 的 hidden state $s_t$                     | `shape=[batch_size, dec_hid_dim]`             |\n",
    "| prediction | 預測下一個 token 是字典中哪一個 token 的機率分布     | `shape=[batch_size, output_dim]`              |\n",
    "\n",
    "> 1. forward 中很多向量都擴充了一個維度，那是代表 seq_len=1\n",
    "> 2. 因為 decoderGRU 只有單層、單時間點，所以 output 和 hidden 是一樣的東西－都是 $s_t$\n",
    "> 3. `torch.bmm` 是簡單的矩陣相乘\n",
    ">     1. 一定要 3 維矩陣\n",
    ">     2. 公式是 $b\\times n\\times m @ b\\times m\\times p = b\\times n\\times p$\n",
    ">     3. `bmm((10, 3, 4), (10, 4, 5)) = (10, 3, 5)`\n",
    ">     4. [documentation](https://pytorch.org/docs/stable/generated/torch.bmm.html)\n"
   ]
  },
  {
   "cell_type": "code",
   "execution_count": 15,
   "metadata": {
    "tags": []
   },
   "outputs": [],
   "source": [
    "class Decoder(nn.Module):\r\n",
    "    def __init__(\r\n",
    "        self, output_dim, emb_dim, enc_hid_dim, dec_hid_dim, dropout, attention\r\n",
    "    ):\r\n",
    "        super().__init__()\r\n",
    "\r\n",
    "        self.attention = attention\r\n",
    "        self.embedding = nn.Embedding.from_pretrained(trg_embedding)\r\n",
    "        self.rnn = nn.GRU((enc_hid_dim * 2) + emb_dim, dec_hid_dim, batch_first=True)\r\n",
    "        self.fc_out = nn.Linear((enc_hid_dim * 2) + dec_hid_dim + emb_dim, output_dim)\r\n",
    "        self.dropout = nn.Dropout(dropout)\r\n",
    "\r\n",
    "    def forward(self, inp, hidden, encoder_outputs, mask):\r\n",
    "        # encoder_outputs = [batch_size, src_len, enc_hid_dim*2]\r\n",
    "        # hidden = [batch_size, dec_hid_dim]\r\n",
    "\r\n",
    "        inp = inp.unsqueeze(1)\r\n",
    "        # inp = [batch_size]\r\n",
    "        #     = [batch_size, 1]  (unsqueeze 1)\r\n",
    "\r\n",
    "        # embedded = [batch_size, 1, emb_dim]\r\n",
    "        embedded = self.dropout(self.embedding(inp))\r\n",
    "        \r\n",
    "        # a = [batch_size, src_len]\r\n",
    "        #   = [batch_size, 1, src_len]  (unsqueeze 1)\r\n",
    "        a = self.attention(hidden, encoder_outputs, mask)\r\n",
    "        a = a.unsqueeze(1)\r\n",
    "        \r\n",
    "        # weighted = [batch_size, 1, enc_hid_dim*2]\r\n",
    "        weighted = torch.bmm(a, encoder_outputs)\r\n",
    "\r\n",
    "        # rnn_input = [batch_size, 1, emb_dim + enc_hid_dim*2]\r\n",
    "        rnn_input = torch.cat((embedded, weighted), dim=2)\r\n",
    "        \r\n",
    "        # hidden = [1, batch_size, dec_hid_dim]  (unsqueeze 0)\r\n",
    "        hidden = hidden.unsqueeze(0)\r\n",
    "        \r\n",
    "        # output = [batch_size, 1, dec_hid_dim]\r\n",
    "        # hidden = [1, batch_size, dec_hid_dim]\r\n",
    "        output, hidden = self.rnn(rnn_input, hidden)\r\n",
    "        \r\n",
    "        # embedded = [batch_size, emb_dim]        (squeeze 0)\r\n",
    "        # output   = [batch_size, dec_hid_dim]    (squeeze 0)\r\n",
    "        # weighted = [batch_size, enc_hid_dim*2]  (squeeze 0)\r\n",
    "        # hidden = [batch_size, dec_hid_dim]      (squeeze 0)\r\n",
    "        embedded = embedded.squeeze(1)\r\n",
    "        output = output.squeeze(1)\r\n",
    "        weighted = weighted.squeeze(1)\r\n",
    "        hidden = hidden.squeeze(0)\r\n",
    "        \r\n",
    "        assert (output == hidden).all()\r\n",
    "        \r\n",
    "        predict_input = torch.cat((output, weighted, embedded), dim=1)\r\n",
    "\r\n",
    "        # prediction = [batch_size, output_dim]\r\n",
    "        prediction = self.fc_out(predict_input)\r\n",
    "\r\n",
    "        # a = [batch_size, src_len]  (squeeze 1)\r\n",
    "        a = a.squeeze(1)\r\n",
    "\r\n",
    "        return prediction, hidden, a"
   ]
  },
  {
   "cell_type": "markdown",
   "metadata": {},
   "source": [
    "## Full Seq2Seq Model"
   ]
  },
  {
   "cell_type": "markdown",
   "metadata": {
    "tags": []
   },
   "source": [
    "\n",
    "\n",
    "我用 `pl.LightningModule` 來封裝所有 seq2seq 模型的 training 和 validation (使用自己的 `_forward()` 函式)、以及 test step (使用內建的 `forward()` 函式)。輸入的 `config` 為網路中所有可以被調整的超參數，可以用於執行 `wandb sweep` (hyperparameter tuning)。\n",
    "\n",
    "### Training\n",
    "\n",
    "在 seq2seq 中，訓練時 (`_forward()`) 首先從 encoder 獲得兩種 final_hidden_states (分別是 outputs 和 hidden):\n",
    "\n",
    "1. outputs: 由每個時間點的 final_linear 輸出的 hidden_states 疊加而成，作為 attention 用途\n",
    "2. hidden: 由最後一個時間點的所有 hidden_states 組合而成，作為初始的 decoder_hidden_states\n",
    "\n",
    "再來就是 decoder 訓練的部分:\n",
    "\n",
    "- `preds` 用來儲存所有預測 $\\hat{y}$ 的結果\n",
    "- 將所有 (一個 batch) 要放入 decoder 的 input_tokens 都設為 `[BOS]`\n",
    "- 在 loop 裡面進行 decode:\n",
    "    - 往 decoder 丟入 input_token $y_t$ 和前一個 hidden_state $s_{t-1}$ 及 encoder_outputs $H$\n",
    "    - 獲得預測值 $\\hat{y}_{t+1}$ 和新的 hidden_state $s_t$\n",
    "    - 機率性使用 `teacher_force`:\n",
    "        - 使用: 下一次的 input_token 是 ground_truth\n",
    "        - 不使用: 下一次的 input_token 就是本次預測 $\\hat{y}_{t+1}$\n",
    "\n",
    "decode 的順序是從 1 開始，這是為了讓 `preds` 能夠跟 target 對稱，當我們要計算 loss 時，再把 target 和 `preds` 的第一個砍掉就好:\n",
    "\n",
    "$$\n",
    "\\begin{aligned}\n",
    "\\text{trg} &= \\begin{bmatrix} &\\text{[BOS]}, &y_1, &y_2, &y_3, &\\text{[EOS]} \\end{bmatrix} \\\\\n",
    "\\text{preds} &= \\begin{bmatrix} &&&0, &\\hat{y}_1, &\\hat{y}_2, &\\hat{y}_3, &\\text{[EOS]} \\end{bmatrix}\n",
    "\\end{aligned}\n",
    "$$\n",
    "\n",
    "\n",
    "### Inference\n",
    "\n",
    "在做 inference (`forward()`) 的時候，除了不會用 `teacher_force` 外，我們的 decode loop 會從 1 跑到自定義的 `max_len`，讓 decode 執行到 `max_len` 結束為止。我會在全部 batch 都預測完成後，再來切掉任何句子出現 `[EOS]` 之後的 tokens。\n",
    "\n",
    "``` python\n",
    "eos_pos = dict((preds == self.trg_tokenizer.token_to_id(\"[EOS]\")).nonzero().tolist())\n",
    "\n",
    "real_sentence = sentence[:eos_pos.get(idx)+1 if eos_pos.get(idx) else None]\n",
    "real_attention = attention[:eos_pos.get(idx)+1 if eos_pos.get(idx) else None, :src_len]\n",
    "```\n",
    "\n",
    "另外在 inference 會同時記錄 attention_matrix 作為 case study 用途。執行完所有的預測後，會對每一個要預測的句子回傳四個物件 (`test_outputs`):\n",
    "\n",
    "|variable|shape|desc|\n",
    "|-|-|-|\n",
    "|pred_sentence | [trg_len] | 預測的句子 tokens |\n",
    "|attn_matrix   | [trg_len, src_len] | pred_sentence 和 src_sentence 的專注力矩陣 |\n",
    "|src_sentence  | [src_len] | 原句 tokens |\n",
    "|trg_sentence  | [trg_len] | 目標句 tokens |"
   ]
  },
  {
   "cell_type": "code",
   "execution_count": 16,
   "metadata": {
    "tags": []
   },
   "outputs": [],
   "source": [
    "class Seq2SeqModel(pl.LightningModule):\r\n",
    "    def __init__(self, input_dim, output_dim, src_tokenizer, trg_tokenizer, config):\r\n",
    "        super().__init__()\r\n",
    "        self.src_pad_idx = src_tokenizer.token_to_id(\"[PAD]\")\r\n",
    "        self.trg_tokenizer = trg_tokenizer\r\n",
    "        self.input_dim = input_dim\r\n",
    "        self.output_dim = output_dim\r\n",
    "\r\n",
    "        self.encoder = Encoder(\r\n",
    "            input_dim,\r\n",
    "            config[\"enc_emb_dim\"],\r\n",
    "            config[\"enc_hid_dim\"],\r\n",
    "            config[\"dec_hid_dim\"],\r\n",
    "            config[\"enc_dropout\"],\r\n",
    "        )\r\n",
    "\r\n",
    "        attn = Attention(config[\"enc_hid_dim\"], config[\"dec_hid_dim\"])\r\n",
    "\r\n",
    "        self.decoder = Decoder(\r\n",
    "            output_dim,\r\n",
    "            config[\"dec_emb_dim\"],\r\n",
    "            config[\"enc_hid_dim\"],\r\n",
    "            config[\"dec_hid_dim\"],\r\n",
    "            config[\"dec_dropout\"],\r\n",
    "            attn,\r\n",
    "        )\r\n",
    "\r\n",
    "        self.lr = config[\"lr\"]\r\n",
    "        self.apply(self.init_weights)\r\n",
    "    \r\n",
    "    \r\n",
    "    def init_weights(self, m):\r\n",
    "        for name, param in m.named_parameters():\r\n",
    "            if 'weight' in name:\r\n",
    "                nn.init.normal_(param.data, mean=0, std=0.01)\r\n",
    "            else:\r\n",
    "                nn.init.constant_(param.data, 0)\r\n",
    "    \r\n",
    "    \r\n",
    "    # Training\r\n",
    "    # Use only when training and validation\r\n",
    "    def _forward(self, src, trg, teacher_forcing_ratio=0.5):\r\n",
    "        # teacher_forcing_ratio is probability to use teacher forcing\r\n",
    "        # e.g., if teacher_forcing_ratio is 0.5 we use teacher forcing 50% of the time\r\n",
    "\r\n",
    "        # src = list of Encoding([ids, type_ids, tokens, offsets, attention_mask, special_tokens_mask, overflowing])\r\n",
    "        # trg = list of Encoding([ids, type_ids, tokens, offsets, attention_mask, special_tokens_mask, overflowing])\r\n",
    "\r\n",
    "        # src_batch = [batch_size, src_len]\r\n",
    "        # src_mask  = [batch_size, src_len]\r\n",
    "        # src_len   = [batch_size]\r\n",
    "        src_batch = torch.tensor([e.ids for e in src], device=self.device)\r\n",
    "        src_mask = torch.tensor([e.attention_mask for e in src], device=self.device)\r\n",
    "        src_len = torch.sum(src_mask, axis=1)\r\n",
    "\r\n",
    "        # trg_batch = [batch_size, trg_len]\r\n",
    "        trg_batch = torch.tensor([e.ids for e in trg], device=self.device)\r\n",
    "\r\n",
    "        batch_size = src_batch.shape[0]\r\n",
    "        trg_len = trg_batch.shape[1]\r\n",
    "        trg_vocab_size = self.output_dim\r\n",
    "\r\n",
    "        # create a tensor for storing all decoder outputs\r\n",
    "        preds = torch.zeros(batch_size, trg_len, trg_vocab_size, device=self.device)\r\n",
    "\r\n",
    "        # encoder_outputs is all hidden states of the input sequence, back and forwards\r\n",
    "        # hidden is the final forward and backward hidden states, passed through a linear layer\r\n",
    "        encoder_outputs, hidden = self.encoder(src_batch, src_len)\r\n",
    "        \r\n",
    "        # first input to the decoder = [BOS] tokens\r\n",
    "        # inp = [batch_size]\r\n",
    "        inp = trg_batch[:, 0]\r\n",
    "\r\n",
    "        for t in range(1, trg_len):\r\n",
    "            # pred   = [batch_size, output_dim]\r\n",
    "            # hidden = [batch_size, dec_hid_dim]\r\n",
    "            pred, hidden, _ = self.decoder(inp, hidden, encoder_outputs, src_mask)\r\n",
    "\r\n",
    "            # store predictions in a tensor holding predictions for each token\r\n",
    "            preds[:, t, :] = pred\r\n",
    "            \r\n",
    "            # decide if we are going to use teacher forcing or not\r\n",
    "            teacher_force = random.random() < teacher_forcing_ratio\r\n",
    "\r\n",
    "            # top1 = [batch_size]\r\n",
    "            # get the highest predicted token from our predictions\r\n",
    "            top1 = pred.argmax(1)\r\n",
    "\r\n",
    "            # inp = [batch_size]\r\n",
    "            # if teacher forcing, use actual next token as next input\r\n",
    "            # if not, use predicted token\r\n",
    "            inp = trg_batch[:, t] if teacher_force else top1\r\n",
    "        \r\n",
    "        return preds\r\n",
    "    \r\n",
    "    \r\n",
    "    # Inference\r\n",
    "    # * Let you use the pl model as a pytorch model.\r\n",
    "    # * \r\n",
    "    # * pl_model.eval()\r\n",
    "    # * pl_model(X)\r\n",
    "    # *\r\n",
    "    def forward(self, src, max_len=100):\r\n",
    "        src_batch = torch.tensor([e.ids for e in src], device=self.device)\r\n",
    "        src_mask = torch.tensor([e.attention_mask for e in src], device=self.device)\r\n",
    "        src_len = torch.sum(src_mask, axis=1)  # actual src_len without [PAD]\r\n",
    "        \r\n",
    "        batch_size = src_batch.shape[0]\r\n",
    "        src_size = src_batch.shape[1]  # src_len with [PAD]\r\n",
    "        trg_len = max_len\r\n",
    "        trg_vocab_size = self.output_dim\r\n",
    "        \r\n",
    "        preds = torch.zeros(batch_size, trg_len, trg_vocab_size, device=self.device)\r\n",
    "        encoder_outputs, hidden = self.encoder(src_batch, src_len)\r\n",
    "        \r\n",
    "        # create a tensor for storing all attention matrices\r\n",
    "        attns = torch.zeros(batch_size, trg_len, src_size, device=self.device)\r\n",
    "        \r\n",
    "        # first input to the decoder = [BOS] tokens\r\n",
    "        # inp = [batch_size]\r\n",
    "        inp = torch.tensor([self.trg_tokenizer.token_to_id(\"[BOS]\")], device=self.device).repeat(batch_size)\r\n",
    "        \r\n",
    "        for t in range(1, trg_len):\r\n",
    "            \r\n",
    "            # attn = [batch_size, src_len]\r\n",
    "            pred, hidden, attn = self.decoder(inp, hidden, encoder_outputs, src_mask)\r\n",
    "            \r\n",
    "            preds[:, t, :] = pred\r\n",
    "            top1 = pred.argmax(1)\r\n",
    "            inp = top1\r\n",
    "            \r\n",
    "            # store attention sequences in a tensor holding attention value for each token\r\n",
    "            attns[:, t, :] = attn\r\n",
    "            \r\n",
    "        return preds, attns, src_len\r\n",
    "\r\n",
    "\r\n",
    "    def training_step(self, batch, batch_idx):\r\n",
    "        # both are lists of encodings\r\n",
    "        src, trg = batch\r\n",
    "        \r\n",
    "        # y    = [batch_size, trg_len]\r\n",
    "        # pred = [batch_size, trg_len, output_dim]\r\n",
    "        y = torch.tensor([e.ids for e in trg], device=self.device)\r\n",
    "        preds = self._forward(src, trg)\r\n",
    "        output_dim = preds.shape[-1]\r\n",
    "        \r\n",
    "        # y    = [batch_size * (trg_len-1)]\r\n",
    "        # pred = [batch_size * (trg_len-1), output_dim]\r\n",
    "        y = y[:, 1:].reshape(-1)\r\n",
    "        preds = preds[:, 1:, :].reshape(-1, output_dim)\r\n",
    "        \r\n",
    "        loss = F.cross_entropy(preds, y, ignore_index=src_pad_idx)\r\n",
    "        self.log(\"train_loss\", loss)\r\n",
    "\r\n",
    "        perplexity = torch.exp(loss)\r\n",
    "        self.log(\"train_ppl\", perplexity)\r\n",
    "        \r\n",
    "        if self.global_step % 50 == 0:\r\n",
    "            torch.cuda.empty_cache()\r\n",
    "            \r\n",
    "        return loss\r\n",
    "    \r\n",
    "    \r\n",
    "    def validation_step(self, batch, batch_idx):\r\n",
    "        src, trg = batch\r\n",
    "        y = torch.tensor([e.ids for e in trg], device=self.device)\r\n",
    "        preds = self._forward(src, trg)\r\n",
    "        \r\n",
    "        output_dim = preds.shape[-1]\r\n",
    "        y = y[:, 1:].reshape(-1)\r\n",
    "        preds = preds[:, 1:, :].reshape(-1, output_dim)\r\n",
    "        \r\n",
    "        loss = F.cross_entropy(preds, y, ignore_index=src_pad_idx)\r\n",
    "        self.log(\"valid_loss\", loss, sync_dist=True)\r\n",
    "        \r\n",
    "        perplexity = torch.exp(loss)\r\n",
    "        self.log(\"valid_ppl\", perplexity, sync_dist=True)\r\n",
    "        \r\n",
    "        \r\n",
    "    def test_step(self, batch, batch_idx):\r\n",
    "        src, trg = batch\r\n",
    "        preds, attn_matrix, real_src_len = self(src)\r\n",
    "        \r\n",
    "        # attn_matrix = [batch_size, trg_len, src_len]\r\n",
    "        # preds       = [batch_size, trg_len, output_dim]\r\n",
    "        #             = [batch_size, trg_len]             (argmax 2)\r\n",
    "        preds = preds.argmax(2)\r\n",
    "        \r\n",
    "        # convert `preds` tensor to list of real sentences (tokens)\r\n",
    "        # meaning to cut the sentence by [EOS] and remove the [PAD] tokens\r\n",
    "        \r\n",
    "        # eos_pos = dict(sentence_idx: first_pad_position)\r\n",
    "        #\r\n",
    "        # e.g., {0: 32, 2: 55} \r\n",
    "        # Meaning that we have 32 tokens (include [EOS]) in the first predicted sentence\r\n",
    "        # and `max_len` tokens (no [EOS]) in the second predicted setence\r\n",
    "        # and 55 tokens (include [EOS]) in the third predicted sentence\r\n",
    "        eos_pos = dict(reversed((preds == self.trg_tokenizer.token_to_id(\"[EOS]\")).nonzero().tolist()))\r\n",
    "    \r\n",
    "        pred_sentences, attn_matrices = [], []\r\n",
    "        for idx, (sentence, attention, src_len) in enumerate(zip(preds, attn_matrix, real_src_len)):\r\n",
    "            \r\n",
    "            # sentence  = [trg_len_with_pad]\r\n",
    "            #           = [real_trg_len]\r\n",
    "            pred_sentences.append(sentence[:eos_pos.get(idx)+1 if eos_pos.get(idx) else None])\r\n",
    "            \r\n",
    "            # attention = [trg_len_with_pad, src_len_with_pad]\r\n",
    "            #           = [real_trg_len, real_src_len]\r\n",
    "            attn_matrices.append(attention[:eos_pos.get(idx)+1 if eos_pos.get(idx) else None, :src_len])\r\n",
    "        \r\n",
    "        # source sentences for displaying attention matrix \r\n",
    "        src = [[token for token in e.tokens if token != \"[PAD]\"] for e in src]\r\n",
    "        \r\n",
    "        # target sentences for calculating BLEU scores\r\n",
    "        trg = [[token for token in e.tokens if token != \"[PAD]\"] for e in trg]\r\n",
    "        \r\n",
    "        return pred_sentences, attn_matrices, src, trg\r\n",
    "        \r\n",
    "    \r\n",
    "    def test_epoch_end(self, test_outputs):\r\n",
    "        outputs = []\r\n",
    "        for (pred_sent_list, attn_list, src_list, trg_list) in test_outputs:\r\n",
    "            for pred_sent, attn, src, trg in list(zip(pred_sent_list, attn_list, src_list, trg_list)):\r\n",
    "                pred_sent = list(map(self.trg_tokenizer.id_to_token, pred_sent))\r\n",
    "                outputs.append((pred_sent, attn, src, trg))\r\n",
    "        \r\n",
    "        # outputs = list of predictions of testsets, each has a tuple of (pred_sentence, attn_matrix, src_sentence, trg_sentence)\r\n",
    "        # pred_sentence = [trg_len]\r\n",
    "        # attn_matrix   = [trg_len, src_len]\r\n",
    "        # src_sentence  = [src_len]\r\n",
    "        # trg_sentence  = [trg_len]\r\n",
    "        self.test_outputs = outputs\r\n",
    "        \r\n",
    "    def configure_optimizers(self):\r\n",
    "        return torch.optim.Adam(self.parameters(), lr=self.lr)\r\n",
    "    \r\n",
    "    \r\n",
    "    def optimizer_zero_grad(self, epoch, batch_idx, optimizer, optimizer_idx):\r\n",
    "        optimizer.zero_grad(set_to_none=True)\r\n",
    "        "
   ]
  },
  {
   "cell_type": "code",
   "execution_count": 17,
   "metadata": {},
   "outputs": [],
   "source": [
    "wandb_logger = pl.loggers.WandbLogger()\n",
    "\n",
    "model = Seq2SeqModel(\n",
    "    input_dim,\n",
    "    output_dim,\n",
    "    dm.src_tokenizer,\n",
    "    dm.trg_tokenizer,\n",
    "    config,\n",
    ")"
   ]
  },
  {
   "cell_type": "code",
   "execution_count": 18,
   "metadata": {},
   "outputs": [
    {
     "name": "stdout",
     "output_type": "stream",
     "text": [
      "The model has 84,620,032 trainable parameters\n"
     ]
    },
    {
     "data": {
      "text/plain": [
       "Seq2SeqModel(\n",
       "  (encoder): Encoder(\n",
       "    (embedding): Embedding(32000, 300)\n",
       "    (rnn): GRU(300, 512, batch_first=True, bidirectional=True)\n",
       "    (fc): Linear(in_features=1024, out_features=512, bias=True)\n",
       "    (dropout): Dropout(p=0.3, inplace=False)\n",
       "  )\n",
       "  (decoder): Decoder(\n",
       "    (attention): Attention(\n",
       "      (attn): Linear(in_features=1536, out_features=512, bias=True)\n",
       "      (v): Linear(in_features=512, out_features=1, bias=False)\n",
       "    )\n",
       "    (embedding): Embedding(32000, 300)\n",
       "    (rnn): GRU(1324, 512, batch_first=True)\n",
       "    (fc_out): Linear(in_features=1836, out_features=32000, bias=True)\n",
       "    (dropout): Dropout(p=0.3, inplace=False)\n",
       "  )\n",
       ")"
      ]
     },
     "execution_count": 18,
     "metadata": {},
     "output_type": "execute_result"
    }
   ],
   "source": [
    "def count_parameters(model):\n",
    "    return sum(p.numel() for p in model.parameters() if p.requires_grad)\n",
    "\n",
    "print(f'The model has {count_parameters(model):,} trainable parameters')\n",
    "model"
   ]
  },
  {
   "cell_type": "markdown",
   "metadata": {},
   "source": [
    "# Training"
   ]
  },
  {
   "cell_type": "code",
   "execution_count": 27,
   "metadata": {},
   "outputs": [
    {
     "name": "stderr",
     "output_type": "stream",
     "text": [
      "/home/windsuzu/miniconda3/lib/python3.8/site-packages/pytorch_lightning/utilities/distributed.py:68: UserWarning: Checkpoint directory checkpoints exists and is not empty.\n",
      "  warnings.warn(*args, **kwargs)\n"
     ]
    }
   ],
   "source": [
    "ckpt_dir = Path(\"checkpoints\")\r\n",
    "checkpoint = pl.callbacks.ModelCheckpoint(dirpath=ckpt_dir,  # path for saving checkpoints\r\n",
    "                                          filename=f\"{job_name[job]}-{method_name[method]}-\" + \"{epoch}-{valid_loss:.3f}\",\r\n",
    "                                          monitor=\"valid_loss\",\r\n",
    "                                          mode=\"min\",\r\n",
    "                                          save_top_k=3,\r\n",
    "                                         )"
   ]
  },
  {
   "cell_type": "code",
   "execution_count": null,
   "metadata": {},
   "outputs": [],
   "source": [
    "trainer = pl.Trainer(\r\n",
    "    fast_dev_run=False,\r\n",
    "    logger=wandb_logger,\r\n",
    "    gpus=1,\r\n",
    "    max_epochs=5,\r\n",
    "    gradient_clip_val=1,\r\n",
    "    precision=config[\"precision\"],\r\n",
    "    callbacks=[checkpoint],\r\n",
    "#     resume_from_checkpoint=ckpt_dir / \"ch2jp-beta=0.9-epoch=2-valid_loss=3.915.ckpt\",\r\n",
    ")"
   ]
  },
  {
   "cell_type": "code",
   "execution_count": null,
   "metadata": {},
   "outputs": [],
   "source": [
    "trainer.fit(model, datamodule=dm)"
   ]
  },
  {
   "cell_type": "markdown",
   "metadata": {},
   "source": [
    "# Testing (BLEU Scores)"
   ]
  },
  {
   "cell_type": "code",
   "execution_count": 34,
   "metadata": {},
   "outputs": [],
   "source": [
    "# model = Seq2SeqModel.load_from_checkpoint(ckpt_dir / \"ch2jp-beta=0.9-epoch=2-valid_loss=3.915.ckpt\")"
   ]
  },
  {
   "cell_type": "code",
   "execution_count": null,
   "metadata": {},
   "outputs": [],
   "source": [
    "trainer.test(model, datamodule=dm)"
   ]
  },
  {
   "cell_type": "code",
   "execution_count": 36,
   "metadata": {},
   "outputs": [],
   "source": [
    "def calculate_corpus_bleu(preds: List[str], refs: List[List[str]], n_gram=4):\n",
    "    # arg example:\n",
    "    # preds: [\"机器人行业在环境问题上的措施\", \"松下生产科技公司也以环境先进企业为目标\"]\n",
    "    # refs: [[\"机器人在环境上的改变\", \"對於机器人在环境上的措施\"],  [\"松下科技公司的首要目标是解决环境问题\"]]\n",
    "    preds = list(map(list, preds))\n",
    "    refs = [[list(sen) for sen in ref] for ref in refs]\n",
    "    return torchmetrics.functional.nlp.bleu_score(preds, refs, n_gram=n_gram)"
   ]
  },
  {
   "cell_type": "code",
   "execution_count": 37,
   "metadata": {},
   "outputs": [
    {
     "name": "stdout",
     "output_type": "stream",
     "text": [
      "tensor(0.4063)\n"
     ]
    }
   ],
   "source": [
    "preds = [dm.trg_tokenizer.decode(list(map(dm.trg_tokenizer.token_to_id, output[0]))) for output in model.test_outputs]\r\n",
    "refs = [[dm.trg_tokenizer.decode(list(map(dm.trg_tokenizer.token_to_id, output[3])))] for output in model.test_outputs]\r\n",
    "\r\n",
    "bleu_score = calculate_corpus_bleu(preds, refs, n_gram=4)\r\n",
    "print(bleu_score)"
   ]
  },
  {
   "cell_type": "markdown",
   "metadata": {},
   "source": [
    "# Case Study and Attention Matrix"
   ]
  },
  {
   "cell_type": "code",
   "execution_count": 38,
   "metadata": {},
   "outputs": [],
   "source": [
    "plt.rcParams['font.sans-serif'] = ['Noto Sans CJK TC']\n",
    "plt.rcParams['axes.unicode_minus'] = False\n",
    "\n",
    "def case_study(pred_token, src_token, trg_token, attn_matrix):\n",
    "    \n",
    "    src  = dm.src_tokenizer.decode(list(map(dm.src_tokenizer.token_to_id, src_token)))\n",
    "    trg  = dm.trg_tokenizer.decode(list(map(dm.trg_tokenizer.token_to_id, trg_token)))\n",
    "    pred = dm.trg_tokenizer.decode(list(map(dm.trg_tokenizer.token_to_id, pred_token)))\n",
    "    \n",
    "    print(f\"SOURCE: \\n{src}\\n {'-'*100}\")\n",
    "    print(f\"TARGET: \\n{trg}\\n {'-'*100}\")\n",
    "    print(f\"PREDICTION: \\n{pred}\\n {'-'*100}\")\n",
    "    \n",
    "    print(f\"BLEU SCORE: {calculate_corpus_bleu([trg], [[pred]])}\")\n",
    "    \n",
    "    plt.figure(figsize=(30, 30))\n",
    "    ax = sns.heatmap(attn_matrix, xticklabels=src_token, yticklabels=pred_token)\n",
    "    ax.xaxis.set_ticks_position('top')\n",
    "    "
   ]
  },
  {
   "cell_type": "code",
   "execution_count": 39,
   "metadata": {},
   "outputs": [
    {
     "name": "stdout",
     "output_type": "stream",
     "text": [
      "SOURCE: \n",
      "本篇概述了 1950 年以后日本的环境教育变迁情况 , 从 20 世纪 80 年代后半期至 90 年代前半期 , 为了迎合世界各地对全球规模的环境问题采取的积极对策 , 环境厅及文部省积极开展了各种各样的活动 ; 调查结果表明在 90 年代后半期 , 伴随着行政改革的推行 , 全国的中小学校教师的环保意识也不断提高 。\n",
      " ----------------------------------------------------------------------------------------------------\n",
      "TARGET: \n",
      "1950 年以降の日本の環境教育の変遷を概観し , 80 年代後半 − 90 年代前半の地球規模の環境問題の世界的取り組みに合わせて , 環境庁及び文部省の種々の活動が活発化し , 90 年代後半には行政的変革に伴って全国小 ・ 中学校でも教師の環境意識の高まりが調査結果として示された 。\n",
      " ----------------------------------------------------------------------------------------------------\n",
      "PREDICTION: \n",
      "1950 年以降日本における日本における変遷を , 20 年代後半から 90 年代前半から , 世界世界規模の環境問題への積極的な積極的な対応策 , 環境庁および文部 , , , , , 90 年代後半に , , , ,の学校での意識意識が 。\n",
      " ----------------------------------------------------------------------------------------------------\n",
      "BLEU SCORE: 0.3166067600250244\n"
     ]
    },
    {
     "data": {
      "image/png": "[encoded data removed]",
      "text/plain": [
       "<Figure size 2160x2160 with 2 Axes>"
      ]
     },
     "metadata": {
      "needs_background": "light"
     },
     "output_type": "display_data"
    }
   ],
   "source": [
    "i=1\n",
    "case_study(model.test_outputs[i][0],\n",
    "           model.test_outputs[i][2],\n",
    "           model.test_outputs[i][3],\n",
    "           model.test_outputs[i][1].cpu().numpy())"
   ]
  },
  {
   "cell_type": "code",
   "execution_count": null,
   "metadata": {},
   "outputs": [],
   "source": []
  }
 ],
 "metadata": {
  "kernelspec": {
   "display_name": "Python 3.8.8 64-bit",
   "name": "python388jvsc74a57bd0910af126f78e4f70975a50f5d0344a29878143e0b01cc32c99ca6cf65dbefcc1"
  },
  "language_info": {
   "name": "python",
   "version": ""
  },
  "metadata": {
   "interpreter": {
    "hash": "910af126f78e4f70975a50f5d0344a29878143e0b01cc32c99ca6cf65dbefcc1"
   }
  },
  "toc-autonumbering": true
 },
 "nbformat": 4,
 "nbformat_minor": 5
}