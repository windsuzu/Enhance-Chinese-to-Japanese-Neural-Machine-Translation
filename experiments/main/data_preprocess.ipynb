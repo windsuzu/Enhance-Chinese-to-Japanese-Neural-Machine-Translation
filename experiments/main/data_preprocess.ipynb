{
 "cells": [
  {
   "cell_type": "markdown",
   "metadata": {},
   "source": [
    "# Import Libraries"
   ]
  },
  {
   "cell_type": "code",
   "execution_count": 1,
   "metadata": {
    "executionInfo": {
     "elapsed": 23653,
     "status": "ok",
     "timestamp": 1618318484460,
     "user": {
      "displayName": "NE6081022王士杰",
      "photoUrl": "",
      "userId": "16413260345102275028"
     },
     "user_tz": -480
    },
    "id": "IDV7wZWMnqBZ",
    "tags": []
   },
   "outputs": [],
   "source": [
    "# Import built-in Python libs\n",
    "import pickle\n",
    "from pathlib import Path\n",
    "from dataclasses import dataclass\n",
    "from typing import List\n",
    "\n",
    "# Import data science libs\n",
    "import numpy as np\n",
    "import pandas as pd\n",
    "\n",
    "# Import weights & bias\n",
    "import wandb\n",
    "\n",
    "# Import deep learning libs\n",
    "import torch\n",
    "import pytorch_lightning as pl\n",
    "\n",
    "# Import data preprocessing libs\n",
    "from tokenizers import Tokenizer, pre_tokenizers, decoders\n",
    "from tokenizers.models import BPE\n",
    "from tokenizers.trainers import BpeTrainer\n",
    "from tokenizers.normalizers import NFKC\n",
    "from tokenizers.processors import TemplateProcessing\n",
    "from torch.utils.data import Dataset, DataLoader"
   ]
  },
  {
   "cell_type": "markdown",
   "metadata": {
    "id": "0jLPQX3InOdG",
    "tags": []
   },
   "source": [
    "---\n",
    "\n",
    "# Split Raw Dataset to Source and Target datasets"
   ]
  },
  {
   "cell_type": "code",
   "execution_count": 5,
   "metadata": {
    "executionInfo": {
     "elapsed": 733,
     "status": "ok",
     "timestamp": 1618303481864,
     "user": {
      "displayName": "NE6081022王士杰",
      "photoUrl": "",
      "userId": "16413260345102275028"
     },
     "user_tz": -480
    },
    "id": "Tm-NwXepumOs",
    "tags": []
   },
   "outputs": [],
   "source": [
    "root_dir = Path.cwd().parent\n",
    "data_dir = root_dir / \"dataset\" / \"ASPEC-JC\"\n",
    "\n",
    "def extract_jp_ch_datasets(txt_arr):\n",
    "    p = np.array([list(map(str.strip, text.split(\"|||\")[1:])) for text in txt_arr])\n",
    "    jp = p[:, 0]\n",
    "    ch = p[:, 1]\n",
    "    return ch, jp\n",
    "\n",
    "\n",
    "def split_raw_text(txt_path):\n",
    "    with txt_path.open() as f:\n",
    "        ch, jp = extract_jp_ch_datasets(f.readlines())\n",
    "        \n",
    "        np.savetxt(txt_path.parent / \"ch.txt\", ch, fmt=\"%s\")\n",
    "        np.savetxt(txt_path.parent / \"jp.txt\", jp, fmt=\"%s\")\n",
    "\n",
    "\n",
    "dev_txt = data_dir / \"dev\" / \"dev.txt\"\n",
    "devtest_txt = data_dir / \"devtest\" / \"devtest.txt\"\n",
    "test_txt = data_dir / \"test\" / \"test.txt\"\n",
    "train_txt = data_dir / \"train\" / \"train.txt\"\n",
    "\n",
    "# uncomment to run the split program\n",
    "# split_raw_text(dev_txt)\n",
    "# split_raw_text(devtest_txt)\n",
    "# split_raw_text(test_txt)\n",
    "# split_raw_text(train_txt)"
   ]
  },
  {
   "cell_type": "code",
   "execution_count": null,
   "metadata": {
    "colab": {
     "base_uri": "https://localhost:8080/"
    },
    "executionInfo": {
     "elapsed": 4029,
     "status": "ok",
     "timestamp": 1618303048321,
     "user": {
      "displayName": "NE6081022王士杰",
      "photoUrl": "",
      "userId": "16413260345102275028"
     },
     "user_tz": -480
    },
    "id": "4x-JA7WDkhvY",
    "outputId": "0149f0af-9c79-4c87-835e-b4dd176ca1c7",
    "tags": []
   },
   "outputs": [],
   "source": [
    "!head -n 5 {str(data_dir / \"train/ch.txt\")}\n",
    "print()\n",
    "!head -n 5 {str(data_dir / \"train/jp.txt\")}\n",
    "print()\n",
    "line = !wc -l < {str(data_dir / \"train/ch.txt\")}\n",
    "print(f\"line count: {line}\")"
   ]
  },
  {
   "cell_type": "code",
   "execution_count": null,
   "metadata": {
    "colab": {
     "base_uri": "https://localhost:8080/"
    },
    "executionInfo": {
     "elapsed": 4982,
     "status": "ok",
     "timestamp": 1617875829347,
     "user": {
      "displayName": "NE6081022王士杰",
      "photoUrl": "",
      "userId": "16413260345102275028"
     },
     "user_tz": -480
    },
    "id": "U2vd7a8HlprH",
    "outputId": "363458b4-dfe5-42c1-f588-05fc2b8dba80",
    "tags": []
   },
   "outputs": [],
   "source": [
    "!head -n 5 {str(data_dir / \"dev/ch.txt\")}\n",
    "print()\n",
    "!head -n 5 {str(data_dir / \"dev/jp.txt\")}\n",
    "print()\n",
    "line = !wc -l < {str(data_dir / \"dev/ch.txt\")}\n",
    "print(f\"line count: {line}\")"
   ]
  },
  {
   "cell_type": "code",
   "execution_count": null,
   "metadata": {
    "colab": {
     "base_uri": "https://localhost:8080/"
    },
    "executionInfo": {
     "elapsed": 6794,
     "status": "ok",
     "timestamp": 1617875831175,
     "user": {
      "displayName": "NE6081022王士杰",
      "photoUrl": "",
      "userId": "16413260345102275028"
     },
     "user_tz": -480
    },
    "id": "ZZttzYFDmVnf",
    "outputId": "c9f2765e-5498-4d31-ce37-576c464324c1",
    "tags": []
   },
   "outputs": [],
   "source": [
    "!head -n 5 {str(data_dir / \"test/ch.txt\")}\n",
    "print()\n",
    "!head -n 5 {str(data_dir / \"test/jp.txt\")}\n",
    "print()\n",
    "line = !wc -l < {str(data_dir / \"test/ch.txt\")}\n",
    "print(f\"line count: {line}\")"
   ]
  },
  {
   "cell_type": "markdown",
   "metadata": {
    "id": "Zg9yMxFMnsjH"
   },
   "source": [
    "## Log Raw Data Artifacts"
   ]
  },
  {
   "cell_type": "code",
   "execution_count": 4,
   "metadata": {
    "colab": {
     "base_uri": "https://localhost:8080/",
     "height": 153
    },
    "executionInfo": {
     "elapsed": 7977,
     "status": "ok",
     "timestamp": 1618303499456,
     "user": {
      "displayName": "NE6081022王士杰",
      "photoUrl": "",
      "userId": "16413260345102275028"
     },
     "user_tz": -480
    },
    "id": "I_GlWuyLnWtu",
    "outputId": "bfcae0ec-7029-4f10-a406-95717557a7bc"
   },
   "outputs": [
    {
     "data": {
      "application/javascript": [
       "\n",
       "        window._wandbApiKey = new Promise((resolve, reject) => {\n",
       "            function loadScript(url) {\n",
       "            return new Promise(function(resolve, reject) {\n",
       "                let newScript = document.createElement(\"script\");\n",
       "                newScript.onerror = reject;\n",
       "                newScript.onload = resolve;\n",
       "                document.body.appendChild(newScript);\n",
       "                newScript.src = url;\n",
       "            });\n",
       "            }\n",
       "            loadScript(\"https://cdn.jsdelivr.net/npm/postmate/build/postmate.min.js\").then(() => {\n",
       "            const iframe = document.createElement('iframe')\n",
       "            iframe.style.cssText = \"width:0;height:0;border:none\"\n",
       "            document.body.appendChild(iframe)\n",
       "            const handshake = new Postmate({\n",
       "                container: iframe,\n",
       "                url: 'https://wandb.ai/authorize'\n",
       "            });\n",
       "            const timeout = setTimeout(() => reject(\"Couldn't auto authenticate\"), 5000)\n",
       "            handshake.then(function(child) {\n",
       "                child.on('authorize', data => {\n",
       "                    clearTimeout(timeout)\n",
       "                    resolve(data)\n",
       "                });\n",
       "            });\n",
       "            })\n",
       "        });\n",
       "    "
      ],
      "text/plain": [
       "<IPython.core.display.Javascript object>"
      ]
     },
     "metadata": {
      "tags": []
     },
     "output_type": "display_data"
    },
    {
     "name": "stderr",
     "output_type": "stream",
     "text": [
      "\u001b[34m\u001b[1mwandb\u001b[0m: Appending key for api.wandb.ai to your netrc file: /root/.netrc\n"
     ]
    },
    {
     "data": {
      "text/html": [
       "\n",
       "                Tracking run with wandb version 0.10.25<br/>\n",
       "                Syncing run <strong style=\"color:#cdcd00\">raw_data</strong> to <a href=\"https://wandb.ai\" target=\"_blank\">Weights & Biases</a> <a href=\"https://docs.wandb.com/integrations/jupyter.html\" target=\"_blank\">(Documentation)</a>.<br/>\n",
       "                Project page: <a href=\"https://wandb.ai/windsuzu/phonetic-translation\" target=\"_blank\">https://wandb.ai/windsuzu/phonetic-translation</a><br/>\n",
       "                Run page: <a href=\"https://wandb.ai/windsuzu/phonetic-translation/runs/2x0aragc\" target=\"_blank\">https://wandb.ai/windsuzu/phonetic-translation/runs/2x0aragc</a><br/>\n",
       "                Run data is saved locally in <code>/content/wandb/run-20210413_084456-2x0aragc</code><br/><br/>\n",
       "            "
      ],
      "text/plain": [
       "<IPython.core.display.HTML object>"
      ]
     },
     "metadata": {
      "tags": []
     },
     "output_type": "display_data"
    }
   ],
   "source": [
    "run = wandb.init(project='phonetic-translation', \n",
    "                 entity='windsuzu',\n",
    "                 group=\"dataset\",\n",
    "                 name=\"raw_data\",\n",
    "                 job_type=\"data_upload\")"
   ]
  },
  {
   "cell_type": "code",
   "execution_count": 5,
   "metadata": {
    "executionInfo": {
     "elapsed": 10893,
     "status": "ok",
     "timestamp": 1618303525088,
     "user": {
      "displayName": "NE6081022王士杰",
      "photoUrl": "",
      "userId": "16413260345102275028"
     },
     "user_tz": -480
    },
    "id": "B5i2IKDro6dA"
   },
   "outputs": [],
   "source": [
    "# save raw txt file to artifact\n",
    "#\n",
    "# |-- train\n",
    "#     |-- ch & jp\n",
    "# |-- dev\n",
    "#     |-- ch & jp\n",
    "# |-- devtest\n",
    "#     |-- ch & jp\n",
    "# |-- test\n",
    "#     |-- ch & jp\n",
    "\n",
    "root_dir = Path.cwd().parent\n",
    "data_dir = root_dir / \"dataset\" / \"ASPEC-JC\"\n",
    "raw_data_types = [\"train\", \"dev\", \"devtest\", \"test\"]\n",
    "\n",
    "artifacts = {}\n",
    "\n",
    "for data_type in raw_data_types:\n",
    "    artifacts[data_type] = wandb.Artifact(data_type, \"raw_data\")\n",
    "    artifacts[data_type].add_file(data_dir / data_type / \"ch.txt\", \"ch.txt\")\n",
    "    artifacts[data_type].add_file(data_dir / data_type / \"jp.txt\", \"jp.txt\")\n",
    "\n",
    "for data_type, artifact in artifacts.items():\n",
    "    run.log_artifact(artifact)"
   ]
  },
  {
   "cell_type": "markdown",
   "metadata": {
    "id": "eUpMP-eOpnLv",
    "tags": []
   },
   "source": [
    "---\n",
    "\n",
    "# Google Sentencepiece Tokenization"
   ]
  },
  {
   "cell_type": "code",
   "execution_count": 24,
   "metadata": {
    "colab": {
     "base_uri": "https://localhost:8080/",
     "height": 306,
     "referenced_widgets": [
      "68b8a22147e642cb9ff32404a6f5df73",
      "ba8723ef855e46a9a489b50225bd1acb",
      "c14f1062d03c447a93a6cf85d944e093",
      "e87be027a35141a590e8173b3c2895f0",
      "af90fbddd11b43518d019073b56cb6d9",
      "1c164ba062484ac795b19c71632a6652",
      "3a34f0eeb71c4197b4c232afe2bf3162",
      "5890ac78442d4427bf7e74b26fa68b3f"
     ]
    },
    "executionInfo": {
     "elapsed": 6097,
     "status": "ok",
     "timestamp": 1618305901658,
     "user": {
      "displayName": "NE6081022王士杰",
      "photoUrl": "",
      "userId": "16413260345102275028"
     },
     "user_tz": -480
    },
    "id": "yjlnnAp1qBEJ",
    "outputId": "5c670c8f-c4ca-4ba5-ca74-93295f4eb977",
    "tags": []
   },
   "outputs": [
    {
     "data": {
      "text/html": [
       "Finishing last run (ID:1fcdlpht) before initializing another..."
      ],
      "text/plain": [
       "<IPython.core.display.HTML object>"
      ]
     },
     "metadata": {
      "tags": []
     },
     "output_type": "display_data"
    },
    {
     "data": {
      "text/html": [
       "<br/>Waiting for W&B process to finish, PID 817<br/>Program ended successfully."
      ],
      "text/plain": [
       "<IPython.core.display.HTML object>"
      ]
     },
     "metadata": {
      "tags": []
     },
     "output_type": "display_data"
    },
    {
     "data": {
      "application/vnd.jupyter.widget-view+json": {
       "model_id": "68b8a22147e642cb9ff32404a6f5df73",
       "version_major": 2,
       "version_minor": 0
      },
      "text/plain": [
       "VBox(children=(Label(value=' 0.00MB of 0.00MB uploaded (0.00MB deduped)\\r'), FloatProgress(value=1.0, max=1.0)…"
      ]
     },
     "metadata": {
      "tags": []
     },
     "output_type": "display_data"
    },
    {
     "data": {
      "text/html": [
       "Find user logs for this run at: <code>/content/wandb/run-20210413_092019-1fcdlpht/logs/debug.log</code>"
      ],
      "text/plain": [
       "<IPython.core.display.HTML object>"
      ]
     },
     "metadata": {
      "tags": []
     },
     "output_type": "display_data"
    },
    {
     "data": {
      "text/html": [
       "Find internal logs for this run at: <code>/content/wandb/run-20210413_092019-1fcdlpht/logs/debug-internal.log</code>"
      ],
      "text/plain": [
       "<IPython.core.display.HTML object>"
      ]
     },
     "metadata": {
      "tags": []
     },
     "output_type": "display_data"
    },
    {
     "data": {
      "text/html": [
       "Synced 5 W&B file(s), 0 media file(s), 0 artifact file(s) and 0 other file(s)"
      ],
      "text/plain": [
       "<IPython.core.display.HTML object>"
      ]
     },
     "metadata": {
      "tags": []
     },
     "output_type": "display_data"
    },
    {
     "data": {
      "text/html": [
       "\n",
       "                    <br/>Synced <strong style=\"color:#cdcd00\">sentence_piece</strong>: <a href=\"https://wandb.ai/windsuzu/phonetic-translation/runs/1fcdlpht\" target=\"_blank\">https://wandb.ai/windsuzu/phonetic-translation/runs/1fcdlpht</a><br/>\n",
       "                "
      ],
      "text/plain": [
       "<IPython.core.display.HTML object>"
      ]
     },
     "metadata": {
      "tags": []
     },
     "output_type": "display_data"
    },
    {
     "data": {
      "text/html": [
       "...Successfully finished last run (ID:1fcdlpht). Initializing new run:<br/><br/>"
      ],
      "text/plain": [
       "<IPython.core.display.HTML object>"
      ]
     },
     "metadata": {
      "tags": []
     },
     "output_type": "display_data"
    },
    {
     "data": {
      "text/html": [
       "\n",
       "                Tracking run with wandb version 0.10.25<br/>\n",
       "                Syncing run <strong style=\"color:#cdcd00\">sentence_piece</strong> to <a href=\"https://wandb.ai\" target=\"_blank\">Weights & Biases</a> <a href=\"https://docs.wandb.com/integrations/jupyter.html\" target=\"_blank\">(Documentation)</a>.<br/>\n",
       "                Project page: <a href=\"https://wandb.ai/windsuzu/phonetic-translation\" target=\"_blank\">https://wandb.ai/windsuzu/phonetic-translation</a><br/>\n",
       "                Run page: <a href=\"https://wandb.ai/windsuzu/phonetic-translation/runs/kdak7ge1\" target=\"_blank\">https://wandb.ai/windsuzu/phonetic-translation/runs/kdak7ge1</a><br/>\n",
       "                Run data is saved locally in <code>/content/wandb/run-20210413_092456-kdak7ge1</code><br/><br/>\n",
       "            "
      ],
      "text/plain": [
       "<IPython.core.display.HTML object>"
      ]
     },
     "metadata": {
      "tags": []
     },
     "output_type": "display_data"
    }
   ],
   "source": [
    "run = wandb.init(project='phonetic-translation', \n",
    "                 entity='windsuzu',\n",
    "                 group=\"tokenizer\",\n",
    "                 name=\"sentence_piece\",\n",
    "                 job_type=\"build_tokenizer\")"
   ]
  },
  {
   "cell_type": "code",
   "execution_count": null,
   "metadata": {
    "colab": {
     "base_uri": "https://localhost:8080/"
    },
    "executionInfo": {
     "elapsed": 1438,
     "status": "ok",
     "timestamp": 1618305904606,
     "user": {
      "displayName": "NE6081022王士杰",
      "photoUrl": "",
      "userId": "16413260345102275028"
     },
     "user_tz": -480
    },
    "id": "lpd_nM0khGat",
    "outputId": "9bc5ffb5-82e3-4762-9db9-274835071347"
   },
   "outputs": [],
   "source": [
    "# Download Raw Data\n",
    "train_data_art = run.use_artifact(\"train:latest\")\n",
    "train_data_dir = train_data_art.download()"
   ]
  },
  {
   "cell_type": "code",
   "execution_count": 16,
   "metadata": {
    "executionInfo": {
     "elapsed": 930,
     "status": "ok",
     "timestamp": 1618305906923,
     "user": {
      "displayName": "NE6081022王士杰",
      "photoUrl": "",
      "userId": "16413260345102275028"
     },
     "user_tz": -480
    },
    "id": "M19hCES8qU3l"
   },
   "outputs": [],
   "source": [
    "def sentence_piece_tokenizer(unk_token=\"[UNK]\", dropout: float=None):\n",
    "    tokenizer = Tokenizer(BPE(dropout=dropout, unk_token=unk_token))\n",
    "    tokenizer.normalizer = NFKC()   \n",
    "    tokenizer.pre_tokenizer = pre_tokenizers.Metaspace(\n",
    "        replacement=\"_\", add_prefix_space=True\n",
    "    )\n",
    "\n",
    "    tokenizer.decoder = decoders.Metaspace(\n",
    "        replacement=\"_\", add_prefix_space=True\n",
    "    )\n",
    "\n",
    "    return tokenizer\n",
    "\n",
    "def train_tokenizer(tokenizer, files, unk_token=\"[UNK]\", vocab_size=30000, show_progress=True, min_frequency=1):  \n",
    "        trainer = BpeTrainer(special_tokens=[unk_token, \"[BOS]\", \"[EOS]\", \"[PAD]\"], \n",
    "                             vocab_size=vocab_size, \n",
    "                             show_prorgess=show_progress,\n",
    "                             min_frequency=min_frequency)\n",
    "        \n",
    "        if isinstance(files, str):\n",
    "            files = [files]\n",
    "        \n",
    "        tokenizer.train(files, trainer=trainer)\n",
    "\n",
    "\n",
    "def build_tokenizer(tokenizer_save_path: str, train_text_path: str, min_frequency=1):\n",
    "    assert train_text_path.exists(), \"Training Raw Text does not exist.\"\n",
    "\n",
    "    if not tokenizer_save_path.exists():\n",
    "        tokenizer = sentence_piece_tokenizer()\n",
    "        \n",
    "        # Train tokenizer\n",
    "        train_tokenizer(tokenizer, str(train_text_path), min_frequency=min_frequency)\n",
    "\n",
    "        # Enable Padding\n",
    "        tokenizer.enable_padding(pad_id=tokenizer.token_to_id(\"[PAD]\"), pad_token=\"[PAD]\")\n",
    "        \n",
    "        # Encode => BOS + sentence + EOS\n",
    "        set_post_processor(tokenizer)\n",
    "\n",
    "        tokenizer.save(str(tokenizer_save_path))\n",
    "    else:\n",
    "        tokenizer = Tokenizer.from_file(str(tokenizer_save_path))\n",
    "\n",
    "    return tokenizer\n",
    "\n",
    "\n",
    "def set_post_processor(tokenizer):\n",
    "    tokenizer.post_processor = TemplateProcessing(\n",
    "        single=\"[BOS] $A [EOS]\",\n",
    "        special_tokens=[\n",
    "            (\"[BOS]\", tokenizer.token_to_id(\"[BOS]\")),\n",
    "            (\"[EOS]\", tokenizer.token_to_id(\"[EOS]\")),\n",
    "        ],\n",
    "    )"
   ]
  },
  {
   "cell_type": "code",
   "execution_count": 14,
   "metadata": {
    "executionInfo": {
     "elapsed": 896,
     "status": "ok",
     "timestamp": 1618305907270,
     "user": {
      "displayName": "NE6081022王士杰",
      "photoUrl": "",
      "userId": "16413260345102275028"
     },
     "user_tz": -480
    },
    "id": "3Im8LFxeqy98"
   },
   "outputs": [],
   "source": [
    "# Get Tokenizer.json File Path\n",
    "\n",
    "root_dir = Path.cwd().parent\n",
    "tokenizer_dir = root_dir / \"tokenizer\"\n",
    "tokenizer_dir.mkdir(parents=True, exist_ok=True)\n",
    "\n",
    "ch_tokenizer_dir = tokenizer_dir / \"tokenizer_sentencepiece_ch.json\"\n",
    "jp_tokenizer_dir = tokenizer_dir / \"tokenizer_sentencepiece_jp.json\""
   ]
  },
  {
   "cell_type": "code",
   "execution_count": null,
   "metadata": {
    "executionInfo": {
     "elapsed": 680,
     "status": "ok",
     "timestamp": 1618305907906,
     "user": {
      "displayName": "NE6081022王士杰",
      "photoUrl": "",
      "userId": "16413260345102275028"
     },
     "user_tz": -480
    },
    "id": "SlGsMPhe-sao"
   },
   "outputs": [],
   "source": [
    "ch_tokenizer = build_tokenizer(ch_tokenizer_dir, Path(train_data_dir) / \"ch.txt\", min_frequency=2)\n",
    "jp_tokenizer = build_tokenizer(jp_tokenizer_dir, Path(train_data_dir) / \"jp.txt\", min_frequency=2)"
   ]
  },
  {
   "cell_type": "code",
   "execution_count": null,
   "metadata": {
    "colab": {
     "base_uri": "https://localhost:8080/",
     "height": 120
    },
    "executionInfo": {
     "elapsed": 673,
     "status": "ok",
     "timestamp": 1618305908555,
     "user": {
      "displayName": "NE6081022王士杰",
      "photoUrl": "",
      "userId": "16413260345102275028"
     },
     "user_tz": -480
    },
    "id": "meA6U3Gxh30s",
    "outputId": "dfa83d74-9df6-4469-98d4-f71109b76ef0"
   },
   "outputs": [],
   "source": [
    "# Print first ten vocab\n",
    "print([(key, val) for key, val in ch_tokenizer.get_vocab().items()][:10])\n",
    "print(ch_tokenizer.get_vocab_size())\n",
    "print()\n",
    "\n",
    "# Encode and Decode Testing\n",
    "encoded = ch_tokenizer.encode(\"缅因州的波特兰拥有Ｒｉｖｅｒｓｉｄｅ循环使用设施（ＲＲＦ）😀\")\n",
    "\n",
    "print(encoded.ids)\n",
    "print(encoded.tokens)\n",
    "ch_tokenizer.decode(encoded.ids)"
   ]
  },
  {
   "cell_type": "code",
   "execution_count": null,
   "metadata": {
    "colab": {
     "base_uri": "https://localhost:8080/"
    },
    "executionInfo": {
     "elapsed": 624,
     "status": "ok",
     "timestamp": 1618305909068,
     "user": {
      "displayName": "NE6081022王士杰",
      "photoUrl": "",
      "userId": "16413260345102275028"
     },
     "user_tz": -480
    },
    "id": "sFQlvvVIDyqK",
    "outputId": "477601f8-0222-48be-9be8-f96b74afd80d",
    "tags": []
   },
   "outputs": [],
   "source": [
    "# Print first ten vocab\n",
    "print([(key, val) for key, val in jp_tokenizer.get_vocab().items()][:10])\n",
    "print(jp_tokenizer.get_vocab_size())\n",
    "print()\n",
    "\n",
    "# Encode and Decode Testing\n",
    "encoded = jp_tokenizer.encode_batch([\"Ｃ＆Ｄ管理施設の高度化\", \"😀異業種ネットワークからの地域ブランド化\"])\n",
    "\n",
    "for i in range(2):\n",
    "    print(encoded[i].ids)\n",
    "    print(encoded[i].tokens)\n",
    "    print(encoded[i].attention_mask)\n",
    "    print(jp_tokenizer.decode(encoded[i].ids))\n",
    "    print()"
   ]
  },
  {
   "cell_type": "markdown",
   "metadata": {
    "id": "PHvXQUoBRmDi"
   },
   "source": [
    "## Log Tokenizer Artifact"
   ]
  },
  {
   "cell_type": "code",
   "execution_count": null,
   "metadata": {
    "colab": {
     "base_uri": "https://localhost:8080/"
    },
    "executionInfo": {
     "elapsed": 1399,
     "status": "ok",
     "timestamp": 1618305911515,
     "user": {
      "displayName": "NE6081022王士杰",
      "photoUrl": "",
      "userId": "16413260345102275028"
     },
     "user_tz": -480
    },
    "id": "zo-Y3hXjRbSC",
    "outputId": "6de0d4c6-e51e-4a9b-83f9-e2c87dcce7b7"
   },
   "outputs": [],
   "source": [
    "artifact = wandb.Artifact(\"sentencepiece\", \n",
    "                          type=\"tokenizer\",\n",
    "                          metadata={\"vocab\": 30000, \n",
    "                                    \"method\": \"SentencePiece\",\n",
    "                                    \"min_frequency\": 2})\n",
    "\n",
    "artifact.add_file(ch_tokenizer_dir, \"ch_tokenizer.json\")\n",
    "artifact.add_file(jp_tokenizer_dir, \"jp_tokenizer.json\")\n",
    "run.log_artifact(artifact)"
   ]
  },
  {
   "cell_type": "markdown",
   "metadata": {
    "id": "AhmyD6-PptOi"
   },
   "source": [
    "---\n",
    "\n",
    "# Preparing Lightning DataModule"
   ]
  },
  {
   "cell_type": "code",
   "execution_count": 24,
   "metadata": {
    "colab": {
     "base_uri": "https://localhost:8080/",
     "height": 153
    },
    "executionInfo": {
     "elapsed": 10246,
     "status": "ok",
     "timestamp": 1618318522950,
     "user": {
      "displayName": "NE6081022王士杰",
      "photoUrl": "",
      "userId": "16413260345102275028"
     },
     "user_tz": -480
    },
    "id": "uPumAtmbqJG7",
    "outputId": "adc5de16-fdc8-4ca1-cb87-1301e5e96286"
   },
   "outputs": [
    {
     "data": {
      "text/html": [
       "Finishing last run (ID:3phgpx3i) before initializing another..."
      ],
      "text/plain": [
       "<IPython.core.display.HTML object>"
      ]
     },
     "metadata": {},
     "output_type": "display_data"
    },
    {
     "data": {
      "text/html": [
       "<br/>Waiting for W&B process to finish, PID 45848<br/>Program ended successfully."
      ],
      "text/plain": [
       "<IPython.core.display.HTML object>"
      ]
     },
     "metadata": {},
     "output_type": "display_data"
    },
    {
     "data": {
      "application/vnd.jupyter.widget-view+json": {
       "model_id": "",
       "version_major": 2,
       "version_minor": 0
      },
      "text/plain": [
       "VBox(children=(Label(value=' 0.00MB of 0.00MB uploaded (0.00MB deduped)\\r'), FloatProgress(value=1.0, max=1.0)…"
      ]
     },
     "metadata": {},
     "output_type": "display_data"
    },
    {
     "data": {
      "text/html": [
       "Find user logs for this run at: <code>/home/ai2019/ne6081022/project/paper/main/wandb/run-20210419_144043-3phgpx3i/logs/debug.log</code>"
      ],
      "text/plain": [
       "<IPython.core.display.HTML object>"
      ]
     },
     "metadata": {},
     "output_type": "display_data"
    },
    {
     "data": {
      "text/html": [
       "Find internal logs for this run at: <code>/home/ai2019/ne6081022/project/paper/main/wandb/run-20210419_144043-3phgpx3i/logs/debug-internal.log</code>"
      ],
      "text/plain": [
       "<IPython.core.display.HTML object>"
      ]
     },
     "metadata": {},
     "output_type": "display_data"
    },
    {
     "data": {
      "text/html": [
       "Synced 5 W&B file(s), 0 media file(s), 1 artifact file(s) and 0 other file(s)"
      ],
      "text/plain": [
       "<IPython.core.display.HTML object>"
      ]
     },
     "metadata": {},
     "output_type": "display_data"
    },
    {
     "data": {
      "text/html": [
       "\n",
       "                    <br/>Synced <strong style=\"color:#cdcd00\">sentence_piece</strong>: <a href=\"https://wandb.ai/windsuzu/phonetic-translation/runs/3phgpx3i\" target=\"_blank\">https://wandb.ai/windsuzu/phonetic-translation/runs/3phgpx3i</a><br/>\n",
       "                "
      ],
      "text/plain": [
       "<IPython.core.display.HTML object>"
      ]
     },
     "metadata": {},
     "output_type": "display_data"
    },
    {
     "data": {
      "text/html": [
       "...Successfully finished last run (ID:3phgpx3i). Initializing new run:<br/><br/>"
      ],
      "text/plain": [
       "<IPython.core.display.HTML object>"
      ]
     },
     "metadata": {},
     "output_type": "display_data"
    },
    {
     "data": {
      "text/html": [
       "\n",
       "                Tracking run with wandb version 0.10.26<br/>\n",
       "                Syncing run <strong style=\"color:#cdcd00\">sentence_piece</strong> to <a href=\"https://wandb.ai\" target=\"_blank\">Weights & Biases</a> <a href=\"https://docs.wandb.com/integrations/jupyter.html\" target=\"_blank\">(Documentation)</a>.<br/>\n",
       "                Project page: <a href=\"https://wandb.ai/windsuzu/phonetic-translation\" target=\"_blank\">https://wandb.ai/windsuzu/phonetic-translation</a><br/>\n",
       "                Run page: <a href=\"https://wandb.ai/windsuzu/phonetic-translation/runs/1zh8sa0l\" target=\"_blank\">https://wandb.ai/windsuzu/phonetic-translation/runs/1zh8sa0l</a><br/>\n",
       "                Run data is saved locally in <code>/home/ai2019/ne6081022/project/paper/main/wandb/run-20210419_144455-1zh8sa0l</code><br/><br/>\n",
       "            "
      ],
      "text/plain": [
       "<IPython.core.display.HTML object>"
      ]
     },
     "metadata": {},
     "output_type": "display_data"
    }
   ],
   "source": [
    "run = wandb.init(project='phonetic-translation', \n",
    "                 entity='windsuzu',\n",
    "                 group=\"dataset\",\n",
    "                 name=\"sentence_piece\",\n",
    "                 job_type=\"build_pl_data_module\")"
   ]
  },
  {
   "cell_type": "code",
   "execution_count": null,
   "metadata": {
    "colab": {
     "base_uri": "https://localhost:8080/"
    },
    "executionInfo": {
     "elapsed": 7165,
     "status": "ok",
     "timestamp": 1618318535734,
     "user": {
      "displayName": "NE6081022王士杰",
      "photoUrl": "",
      "userId": "16413260345102275028"
     },
     "user_tz": -480
    },
    "id": "WUcToPKhGE5q",
    "outputId": "4e8cfd0f-fffc-401d-eb2e-f2f727d0b553"
   },
   "outputs": [],
   "source": [
    "train_data_art = run.use_artifact(\"train:latest\")\n",
    "train_data_dir = train_data_art.download()\n",
    "\n",
    "dev_data_art = run.use_artifact(\"dev:latest\")\n",
    "dev_data_dir = dev_data_art.download()\n",
    "\n",
    "test_data_art = run.use_artifact(\"test:latest\")\n",
    "test_data_dir = test_data_art.download()\n",
    "\n",
    "data_dir = {\"train\": train_data_dir, \n",
    "            \"dev\": dev_data_dir,\n",
    "            \"test\": test_data_dir,}\n",
    "\n",
    "!head -n 2 {str(Path(train_data_dir) / \"ch.txt\")}\n",
    "print()\n",
    "!head -n 2 {str(Path(dev_data_dir) / \"ch.txt\")}\n",
    "print()\n",
    "!head -n 2 {str(Path(test_data_dir) / \"ch.txt\")}\n",
    "print()"
   ]
  },
  {
   "cell_type": "code",
   "execution_count": 26,
   "metadata": {
    "executionInfo": {
     "elapsed": 1812,
     "status": "ok",
     "timestamp": 1618318540742,
     "user": {
      "displayName": "NE6081022王士杰",
      "photoUrl": "",
      "userId": "16413260345102275028"
     },
     "user_tz": -480
    },
    "id": "neJC6_wxGA9B"
   },
   "outputs": [],
   "source": [
    "sentencepiece_tokenizer_art = run.use_artifact(\"sentencepiece:latest\")\n",
    "sentencepiece_tokenizer_dir = sentencepiece_tokenizer_art.download()\n",
    "ch_tokenizer_dir = Path(sentencepiece_tokenizer_dir) / \"ch_tokenizer.json\"\n",
    "jp_tokenizer_dir = Path(sentencepiece_tokenizer_dir) / \"jp_tokenizer.json\""
   ]
  },
  {
   "cell_type": "code",
   "execution_count": 27,
   "metadata": {
    "executionInfo": {
     "elapsed": 820,
     "status": "ok",
     "timestamp": 1618318545816,
     "user": {
      "displayName": "NE6081022王士杰",
      "photoUrl": "",
      "userId": "16413260345102275028"
     },
     "user_tz": -480
    },
    "id": "2htx-bc4C7_V"
   },
   "outputs": [],
   "source": [
    "class SentencePieceDataModule(pl.LightningDataModule):\n",
    "    def __init__(\n",
    "        self,\n",
    "        data_dir,\n",
    "        src_tokenizer_dir,\n",
    "        trg_tokenizer_dir,\n",
    "        batch_size=128,\n",
    "        num_workers=8,\n",
    "        pin_memory=True,\n",
    "    ):\n",
    "        super().__init__()\n",
    "        self.data_dir = data_dir\n",
    "        self.src_tokenizer_dir = src_tokenizer_dir\n",
    "        self.trg_tokenizer_dir = trg_tokenizer_dir\n",
    "        self.batch_size = batch_size\n",
    "        self.num_workers = num_workers\n",
    "        self.pin_memory = pin_memory\n",
    "\n",
    "    def setup(self, stage=None):\n",
    "        self.src_tokenizer = self._load_tokenizer(self.src_tokenizer_dir)\n",
    "        self.trg_tokenizer = self._load_tokenizer(self.trg_tokenizer_dir)\n",
    "\n",
    "        if stage == \"fit\":\n",
    "            self.train_set = self._data_preprocess(self.data_dir[\"train\"])\n",
    "            self.val_set = self._data_preprocess(self.data_dir[\"dev\"])\n",
    "\n",
    "        if stage == \"test\":\n",
    "            self.test_set = self._data_preprocess(self.data_dir[\"test\"])\n",
    "\n",
    "    def train_dataloader(self):\n",
    "        return DataLoader(\n",
    "            self.train_set,\n",
    "            self.batch_size,\n",
    "            shuffle=True,\n",
    "            num_workers=self.num_workers,\n",
    "            pin_memory=self.pin_memory,\n",
    "            collate_fn=self._data_batching_fn,\n",
    "        )\n",
    "\n",
    "    def val_dataloader(self):\n",
    "        return DataLoader(\n",
    "            self.val_set,\n",
    "            self.batch_size,\n",
    "            shuffle=False,\n",
    "            num_workers=self.num_workers,\n",
    "            pin_memory=self.pin_memory,\n",
    "            collate_fn=self._data_batching_fn,\n",
    "        )\n",
    "\n",
    "    def test_dataloader(self):\n",
    "        return DataLoader(\n",
    "            self.test_set,\n",
    "            self.batch_size,\n",
    "            shuffle=False,\n",
    "            num_workers=self.num_workers,\n",
    "            pin_memory=self.pin_memory,\n",
    "            collate_fn=self._data_batching_fn,\n",
    "        )\n",
    "\n",
    "    def _read_data_array(self, data_dir):\n",
    "        with open(data_dir, encoding=\"utf8\") as f:\n",
    "            arr = f.readlines()\n",
    "        return arr\n",
    "\n",
    "    def _load_tokenizer(self, tokenizer_dir):\n",
    "        return Tokenizer.from_file(str(tokenizer_dir))\n",
    "\n",
    "    def _data_preprocess(self, data_dir):\n",
    "        src_txt = self._read_data_array(Path(data_dir) / \"ch.txt\")\n",
    "        trg_txt = self._read_data_array(Path(data_dir) / \"jp.txt\")\n",
    "        parallel_txt = np.array(list(zip(src_txt, trg_txt)))\n",
    "        return parallel_txt\n",
    "\n",
    "    def _data_batching_fn(self, data_batch):\n",
    "        data_batch = np.array(data_batch)  # shape=(batch_size, 2=src+trg)\n",
    "\n",
    "        src_batch = data_batch[:, 0]  # shape=(batch_size, )\n",
    "        trg_batch = data_batch[:, 1]  # shape=(batch_size, )\n",
    "        \n",
    "        # src_batch=(batch_size, longest_sentence)\n",
    "        # trg_batch=(batch_size, longest_sentence)\n",
    "        src_batch = self.src_tokenizer.encode_batch(src_batch)  \n",
    "        trg_batch = self.trg_tokenizer.encode_batch(trg_batch)\n",
    "\n",
    "        # We have to sort the batch by their non-padded lengths in descending order,\n",
    "        # because the descending order can help in `nn.utils.rnn.pack_padded_sequence()`,\n",
    "        # which it will help us ignoring the <pad> in training rnn.\n",
    "        # https://meetonfriday.com/posts/4d6a906a\n",
    "        src_batch, trg_batch = zip(\n",
    "            *sorted(\n",
    "                zip(src_batch, trg_batch),\n",
    "                key=lambda x: sum(x[0].attention_mask),\n",
    "                reverse=True,\n",
    "            )\n",
    "        )\n",
    "        \n",
    "        return src_batch, trg_batch"
   ]
  },
  {
   "cell_type": "code",
   "execution_count": 28,
   "metadata": {},
   "outputs": [],
   "source": [
    "dm = SentencePieceDataModule(data_dir, ch_tokenizer_dir, jp_tokenizer_dir, 128)"
   ]
  },
  {
   "cell_type": "markdown",
   "metadata": {
    "id": "xPJ6Kfi2A7xu"
   },
   "source": [
    "## Log Dataset Artifact"
   ]
  },
  {
   "cell_type": "code",
   "execution_count": 29,
   "metadata": {
    "id": "Qs2Fq2RJA-ju",
    "tags": []
   },
   "outputs": [],
   "source": [
    "root_dir = Path.cwd().parent\n",
    "data_module_dir = root_dir / \"data_module\"\n",
    "data_module_dir.mkdir(parents=True, exist_ok=True)\n",
    "\n",
    "with (data_module_dir / \"sentence_piece.pkl\").open('wb') as f:\n",
    "    pickle.dump(dm, f, pickle.HIGHEST_PROTOCOL)\n",
    "    \n",
    "with (data_module_dir / \"sentence_piece.pkl\").open('rb') as f:\n",
    "    dm = pickle.load(f)"
   ]
  },
  {
   "cell_type": "code",
   "execution_count": 30,
   "metadata": {
    "id": "artYu4efRpOQ",
    "tags": []
   },
   "outputs": [
    {
     "data": {
      "text/plain": [
       "<wandb.sdk.wandb_artifacts.Artifact at 0x7ff5847d5f40>"
      ]
     },
     "execution_count": 30,
     "metadata": {},
     "output_type": "execute_result"
    }
   ],
   "source": [
    "artifact = wandb.Artifact(\"sentencepiece_dm\", \n",
    "                          type=\"data_module\",\n",
    "                          metadata={\"tokenizer\": \"SentencePiece\",\n",
    "                                    \"Dataset\": \"train, val, test\"})\n",
    "\n",
    "artifact.add_file(data_module_dir / \"sentence_piece.pkl\", \"sentencepiece_dm.pkl\")\n",
    "run.log_artifact(artifact)"
   ]
  },
  {
   "cell_type": "markdown",
   "metadata": {
    "id": "PsyhIvv8OTzP"
   },
   "source": [
    "## Test our DataModule"
   ]
  },
  {
   "cell_type": "code",
   "execution_count": 31,
   "metadata": {},
   "outputs": [],
   "source": [
    "sentencepiece_dm_art = run.use_artifact(\"sentencepiece_dm:latest\")\n",
    "sentencepiece_dm_dir = sentencepiece_dm_art.download()\n",
    "\n",
    "with open(Path(sentencepiece_dm_dir) / \"sentencepiece_dm.pkl\", 'rb') as f:\n",
    "    dm = pickle.load(f)"
   ]
  },
  {
   "cell_type": "code",
   "execution_count": 32,
   "metadata": {},
   "outputs": [],
   "source": [
    "dm.setup(\"fit\")\n",
    "dm.setup(\"test\")"
   ]
  },
  {
   "cell_type": "code",
   "execution_count": null,
   "metadata": {
    "colab": {
     "base_uri": "https://localhost:8080/"
    },
    "executionInfo": {
     "elapsed": 1084,
     "status": "ok",
     "timestamp": 1618318584588,
     "user": {
      "displayName": "NE6081022王士杰",
      "photoUrl": "",
      "userId": "16413260345102275028"
     },
     "user_tz": -480
    },
    "id": "JOv2-4cuOSav",
    "outputId": "8fb84297-7836-42f7-9e3a-50c3320e2efb"
   },
   "outputs": [],
   "source": [
    "for src_batch, trg_batch in dm.train_dataloader():\n",
    "    print(src_batch[0].tokens) # longest sentence = no padding\n",
    "    print(trg_batch[0].tokens)\n",
    "    \n",
    "    print(src_batch[-1].tokens) # shortest sentence = most padding\n",
    "    print(trg_batch[-1].tokens)\n",
    "    break"
   ]
  },
  {
   "cell_type": "code",
   "execution_count": null,
   "metadata": {
    "colab": {
     "base_uri": "https://localhost:8080/"
    },
    "executionInfo": {
     "elapsed": 611,
     "status": "ok",
     "timestamp": 1618318586267,
     "user": {
      "displayName": "NE6081022王士杰",
      "photoUrl": "",
      "userId": "16413260345102275028"
     },
     "user_tz": -480
    },
    "id": "xZoHu4cMOPYq",
    "outputId": "b78043de-a76b-431a-a14a-4f64d2414c70"
   },
   "outputs": [],
   "source": [
    "for src_batch, trg_batch in dm.val_dataloader():\n",
    "    print(src_batch[0].tokens)\n",
    "    print(trg_batch[0].tokens)\n",
    "    \n",
    "    print(src_batch[-1].tokens)\n",
    "    print(trg_batch[-1].tokens)\n",
    "    break"
   ]
  },
  {
   "cell_type": "code",
   "execution_count": null,
   "metadata": {
    "colab": {
     "base_uri": "https://localhost:8080/"
    },
    "executionInfo": {
     "elapsed": 799,
     "status": "ok",
     "timestamp": 1618318587880,
     "user": {
      "displayName": "NE6081022王士杰",
      "photoUrl": "",
      "userId": "16413260345102275028"
     },
     "user_tz": -480
    },
    "id": "WS7C21KqPJ_w",
    "outputId": "3ce57fdf-226c-4d7f-a2bf-fdfe6a2f73c3"
   },
   "outputs": [],
   "source": [
    "for src_batch, trg_batch in dm.test_dataloader():\n",
    "    print(src_batch[0].tokens)\n",
    "    print(trg_batch[0].tokens)\n",
    "    \n",
    "    print(src_batch[-1].tokens)\n",
    "    print(trg_batch[-1].tokens)\n",
    "    break"
   ]
  },
  {
   "cell_type": "code",
   "execution_count": 36,
   "metadata": {},
   "outputs": [
    {
     "data": {
      "text/html": [
       "<br/>Waiting for W&B process to finish, PID 46135<br/>Program ended successfully."
      ],
      "text/plain": [
       "<IPython.core.display.HTML object>"
      ]
     },
     "metadata": {},
     "output_type": "display_data"
    },
    {
     "data": {
      "application/vnd.jupyter.widget-view+json": {
       "model_id": "",
       "version_major": 2,
       "version_minor": 0
      },
      "text/plain": [
       "VBox(children=(Label(value=' 0.00MB of 0.00MB uploaded (0.00MB deduped)\\r'), FloatProgress(value=1.0, max=1.0)…"
      ]
     },
     "metadata": {},
     "output_type": "display_data"
    },
    {
     "data": {
      "text/html": [
       "Find user logs for this run at: <code>/home/ai2019/ne6081022/project/paper/main/wandb/run-20210419_144455-1zh8sa0l/logs/debug.log</code>"
      ],
      "text/plain": [
       "<IPython.core.display.HTML object>"
      ]
     },
     "metadata": {},
     "output_type": "display_data"
    },
    {
     "data": {
      "text/html": [
       "Find internal logs for this run at: <code>/home/ai2019/ne6081022/project/paper/main/wandb/run-20210419_144455-1zh8sa0l/logs/debug-internal.log</code>"
      ],
      "text/plain": [
       "<IPython.core.display.HTML object>"
      ]
     },
     "metadata": {},
     "output_type": "display_data"
    },
    {
     "data": {
      "text/html": [
       "Synced 5 W&B file(s), 0 media file(s), 0 artifact file(s) and 0 other file(s)"
      ],
      "text/plain": [
       "<IPython.core.display.HTML object>"
      ]
     },
     "metadata": {},
     "output_type": "display_data"
    },
    {
     "data": {
      "text/html": [
       "\n",
       "                    <br/>Synced <strong style=\"color:#cdcd00\">sentence_piece</strong>: <a href=\"https://wandb.ai/windsuzu/phonetic-translation/runs/1zh8sa0l\" target=\"_blank\">https://wandb.ai/windsuzu/phonetic-translation/runs/1zh8sa0l</a><br/>\n",
       "                "
      ],
      "text/plain": [
       "<IPython.core.display.HTML object>"
      ]
     },
     "metadata": {},
     "output_type": "display_data"
    }
   ],
   "source": [
    "run.finish()"
   ]
  },
  {
   "cell_type": "code",
   "execution_count": null,
   "metadata": {},
   "outputs": [],
   "source": []
  }
 ],
 "metadata": {
  "colab": {
   "authorship_tag": "ABX9TyNfjeD/O41ga4aGmZW502GJ",
   "collapsed_sections": [],
   "mount_file_id": "1L02Qk-Dm-jqIakxj9MCrbk4fmL4qkjaN",
   "name": "ASPEC_JC_preprocess.ipynb",
   "provenance": [],
   "toc_visible": true
  },
  "kernelspec": {
   "display_name": "Python 3",
   "language": "python",
   "name": "python3"
  },
  "language_info": {
   "codemirror_mode": {
    "name": "ipython",
    "version": 3
   },
   "file_extension": ".py",
   "mimetype": "text/x-python",
   "name": "python",
   "nbconvert_exporter": "python",
   "pygments_lexer": "ipython3",
   "version": "3.8.5"
  },
  "toc-autonumbering": true,
  "toc-showcode": false,
  "toc-showmarkdowntxt": false,
  "toc-showtags": false,
  "widgets": {
   "application/vnd.jupyter.widget-state+json": {
    "1c164ba062484ac795b19c71632a6652": {
     "model_module": "@jupyter-widgets/base",
     "model_name": "LayoutModel",
     "state": {
      "_model_module": "@jupyter-widgets/base",
      "_model_module_version": "1.2.0",
      "_model_name": "LayoutModel",
      "_view_count": null,
      "_view_module": "@jupyter-widgets/base",
      "_view_module_version": "1.2.0",
      "_view_name": "LayoutView",
      "align_content": null,
      "align_items": null,
      "align_self": null,
      "border": null,
      "bottom": null,
      "display": null,
      "flex": null,
      "flex_flow": null,
      "grid_area": null,
      "grid_auto_columns": null,
      "grid_auto_flow": null,
      "grid_auto_rows": null,
      "grid_column": null,
      "grid_gap": null,
      "grid_row": null,
      "grid_template_areas": null,
      "grid_template_columns": null,
      "grid_template_rows": null,
      "height": null,
      "justify_content": null,
      "justify_items": null,
      "left": null,
      "margin": null,
      "max_height": null,
      "max_width": null,
      "min_height": null,
      "min_width": null,
      "object_fit": null,
      "object_position": null,
      "order": null,
      "overflow": null,
      "overflow_x": null,
      "overflow_y": null,
      "padding": null,
      "right": null,
      "top": null,
      "visibility": null,
      "width": null
     }
    },
    "3a34f0eeb71c4197b4c232afe2bf3162": {
     "model_module": "@jupyter-widgets/controls",
     "model_name": "ProgressStyleModel",
     "state": {
      "_model_module": "@jupyter-widgets/controls",
      "_model_module_version": "1.5.0",
      "_model_name": "ProgressStyleModel",
      "_view_count": null,
      "_view_module": "@jupyter-widgets/base",
      "_view_module_version": "1.2.0",
      "_view_name": "StyleView",
      "bar_color": null,
      "description_width": ""
     }
    },
    "5890ac78442d4427bf7e74b26fa68b3f": {
     "model_module": "@jupyter-widgets/base",
     "model_name": "LayoutModel",
     "state": {
      "_model_module": "@jupyter-widgets/base",
      "_model_module_version": "1.2.0",
      "_model_name": "LayoutModel",
      "_view_count": null,
      "_view_module": "@jupyter-widgets/base",
      "_view_module_version": "1.2.0",
      "_view_name": "LayoutView",
      "align_content": null,
      "align_items": null,
      "align_self": null,
      "border": null,
      "bottom": null,
      "display": null,
      "flex": null,
      "flex_flow": null,
      "grid_area": null,
      "grid_auto_columns": null,
      "grid_auto_flow": null,
      "grid_auto_rows": null,
      "grid_column": null,
      "grid_gap": null,
      "grid_row": null,
      "grid_template_areas": null,
      "grid_template_columns": null,
      "grid_template_rows": null,
      "height": null,
      "justify_content": null,
      "justify_items": null,
      "left": null,
      "margin": null,
      "max_height": null,
      "max_width": null,
      "min_height": null,
      "min_width": null,
      "object_fit": null,
      "object_position": null,
      "order": null,
      "overflow": null,
      "overflow_x": null,
      "overflow_y": null,
      "padding": null,
      "right": null,
      "top": null,
      "visibility": null,
      "width": null
     }
    },
    "68b8a22147e642cb9ff32404a6f5df73": {
     "model_module": "@jupyter-widgets/controls",
     "model_name": "VBoxModel",
     "state": {
      "_dom_classes": [],
      "_model_module": "@jupyter-widgets/controls",
      "_model_module_version": "1.5.0",
      "_model_name": "VBoxModel",
      "_view_count": null,
      "_view_module": "@jupyter-widgets/controls",
      "_view_module_version": "1.5.0",
      "_view_name": "VBoxView",
      "box_style": "",
      "children": [
       "IPY_MODEL_c14f1062d03c447a93a6cf85d944e093",
       "IPY_MODEL_e87be027a35141a590e8173b3c2895f0"
      ],
      "layout": "IPY_MODEL_ba8723ef855e46a9a489b50225bd1acb"
     }
    },
    "af90fbddd11b43518d019073b56cb6d9": {
     "model_module": "@jupyter-widgets/controls",
     "model_name": "DescriptionStyleModel",
     "state": {
      "_model_module": "@jupyter-widgets/controls",
      "_model_module_version": "1.5.0",
      "_model_name": "DescriptionStyleModel",
      "_view_count": null,
      "_view_module": "@jupyter-widgets/base",
      "_view_module_version": "1.2.0",
      "_view_name": "StyleView",
      "description_width": ""
     }
    },
    "ba8723ef855e46a9a489b50225bd1acb": {
     "model_module": "@jupyter-widgets/base",
     "model_name": "LayoutModel",
     "state": {
      "_model_module": "@jupyter-widgets/base",
      "_model_module_version": "1.2.0",
      "_model_name": "LayoutModel",
      "_view_count": null,
      "_view_module": "@jupyter-widgets/base",
      "_view_module_version": "1.2.0",
      "_view_name": "LayoutView",
      "align_content": null,
      "align_items": null,
      "align_self": null,
      "border": null,
      "bottom": null,
      "display": null,
      "flex": null,
      "flex_flow": null,
      "grid_area": null,
      "grid_auto_columns": null,
      "grid_auto_flow": null,
      "grid_auto_rows": null,
      "grid_column": null,
      "grid_gap": null,
      "grid_row": null,
      "grid_template_areas": null,
      "grid_template_columns": null,
      "grid_template_rows": null,
      "height": null,
      "justify_content": null,
      "justify_items": null,
      "left": null,
      "margin": null,
      "max_height": null,
      "max_width": null,
      "min_height": null,
      "min_width": null,
      "object_fit": null,
      "object_position": null,
      "order": null,
      "overflow": null,
      "overflow_x": null,
      "overflow_y": null,
      "padding": null,
      "right": null,
      "top": null,
      "visibility": null,
      "width": null
     }
    },
    "c14f1062d03c447a93a6cf85d944e093": {
     "model_module": "@jupyter-widgets/controls",
     "model_name": "LabelModel",
     "state": {
      "_dom_classes": [],
      "_model_module": "@jupyter-widgets/controls",
      "_model_module_version": "1.5.0",
      "_model_name": "LabelModel",
      "_view_count": null,
      "_view_module": "@jupyter-widgets/controls",
      "_view_module_version": "1.5.0",
      "_view_name": "LabelView",
      "description": "",
      "description_tooltip": null,
      "layout": "IPY_MODEL_1c164ba062484ac795b19c71632a6652",
      "placeholder": "​",
      "style": "IPY_MODEL_af90fbddd11b43518d019073b56cb6d9",
      "value": " 0.01MB of 0.01MB uploaded (0.00MB deduped)\r"
     }
    },
    "e87be027a35141a590e8173b3c2895f0": {
     "model_module": "@jupyter-widgets/controls",
     "model_name": "FloatProgressModel",
     "state": {
      "_dom_classes": [],
      "_model_module": "@jupyter-widgets/controls",
      "_model_module_version": "1.5.0",
      "_model_name": "FloatProgressModel",
      "_view_count": null,
      "_view_module": "@jupyter-widgets/controls",
      "_view_module_version": "1.5.0",
      "_view_name": "ProgressView",
      "bar_style": "",
      "description": "",
      "description_tooltip": null,
      "layout": "IPY_MODEL_5890ac78442d4427bf7e74b26fa68b3f",
      "max": 1,
      "min": 0,
      "orientation": "horizontal",
      "style": "IPY_MODEL_3a34f0eeb71c4197b4c232afe2bf3162",
      "value": 1
     }
    }
   }
  }
 },
 "nbformat": 4,
 "nbformat_minor": 4
}
