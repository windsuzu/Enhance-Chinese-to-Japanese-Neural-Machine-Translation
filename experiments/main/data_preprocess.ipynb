{
 "cells": [
  {
   "cell_type": "markdown",
   "metadata": {},
   "source": [
    "# Import Libraries"
   ]
  },
  {
   "cell_type": "code",
   "execution_count": 1,
   "metadata": {
    "executionInfo": {
     "elapsed": 23653,
     "status": "ok",
     "timestamp": 1618318484460,
     "user": {
      "displayName": "NE6081022王士杰",
      "photoUrl": "",
      "userId": "16413260345102275028"
     },
     "user_tz": -480
    },
    "id": "IDV7wZWMnqBZ",
    "tags": []
   },
   "outputs": [],
   "source": [
    "# Import built-in Python libs\r\n",
    "import pickle\r\n",
    "from pathlib import Path\r\n",
    "from dataclasses import dataclass\r\n",
    "from typing import List\r\n",
    "import unicodedata\r\n",
    "\r\n",
    "# Import data science libs\r\n",
    "import numpy as np\r\n",
    "import pandas as pd\r\n",
    "import matplotlib.pyplot as plt\r\n",
    "\r\n",
    "# Import weights & bias\r\n",
    "import wandb\r\n",
    "\r\n",
    "# Import deep learning libs\r\n",
    "import torch\r\n",
    "import pytorch_lightning as pl\r\n",
    "\r\n",
    "# Import data preprocessing libs\r\n",
    "from tokenizers import Tokenizer, pre_tokenizers, decoders\r\n",
    "from tokenizers.models import BPE\r\n",
    "from tokenizers.trainers import BpeTrainer\r\n",
    "from tokenizers.normalizers import NFKC\r\n",
    "from tokenizers.processors import TemplateProcessing\r\n",
    "from torch.utils.data import Dataset, DataLoader\r\n",
    "import fasttext\r\n",
    "import jieba\r\n",
    "from janome.tokenizer import Tokenizer as ja_tokenizer"
   ]
  },
  {
   "cell_type": "markdown",
   "metadata": {
    "id": "0jLPQX3InOdG",
    "tags": []
   },
   "source": [
    "---\n",
    "\n",
    "# Split Raw Dataset to Source and Target datasets"
   ]
  },
  {
   "cell_type": "code",
   "execution_count": 4,
   "metadata": {
    "executionInfo": {
     "elapsed": 733,
     "status": "ok",
     "timestamp": 1618303481864,
     "user": {
      "displayName": "NE6081022王士杰",
      "photoUrl": "",
      "userId": "16413260345102275028"
     },
     "user_tz": -480
    },
    "id": "Tm-NwXepumOs",
    "tags": []
   },
   "outputs": [],
   "source": [
    "root_dir = Path.cwd().parent\n",
    "data_dir = root_dir / \"dataset\" / \"ASPEC-JC\"\n",
    "\n",
    "def extract_jp_ch_datasets(txt_arr):\n",
    "    p = np.array([list(map(str.strip, text.split(\"|||\")[1:])) for text in txt_arr])\n",
    "    jp = p[:, 0]\n",
    "    ch = p[:, 1]\n",
    "    return ch, jp\n",
    "\n",
    "\n",
    "def split_raw_text(txt_path):\n",
    "    with txt_path.open() as f:\n",
    "        ch, jp = extract_jp_ch_datasets(f.readlines())\n",
    "        \n",
    "        np.savetxt(txt_path.parent / \"ch.txt\", ch, fmt=\"%s\")\n",
    "        np.savetxt(txt_path.parent / \"jp.txt\", jp, fmt=\"%s\")\n",
    "\n",
    "\n",
    "dev_txt = data_dir / \"dev\" / \"dev.txt\"\n",
    "devtest_txt = data_dir / \"devtest\" / \"devtest.txt\"\n",
    "test_txt = data_dir / \"test\" / \"test.txt\"\n",
    "train_txt = data_dir / \"train\" / \"train.txt\"\n",
    "\n",
    "# uncomment to run the split program\n",
    "# split_raw_text(dev_txt)\n",
    "# split_raw_text(devtest_txt)\n",
    "# split_raw_text(test_txt)\n",
    "# split_raw_text(train_txt)"
   ]
  },
  {
   "cell_type": "markdown",
   "metadata": {
    "id": "Zg9yMxFMnsjH"
   },
   "source": [
    "## Log Raw Data Artifacts"
   ]
  },
  {
   "cell_type": "code",
   "execution_count": 4,
   "metadata": {
    "colab": {
     "base_uri": "https://localhost:8080/",
     "height": 153
    },
    "executionInfo": {
     "elapsed": 7977,
     "status": "ok",
     "timestamp": 1618303499456,
     "user": {
      "displayName": "NE6081022王士杰",
      "photoUrl": "",
      "userId": "16413260345102275028"
     },
     "user_tz": -480
    },
    "id": "I_GlWuyLnWtu",
    "outputId": "bfcae0ec-7029-4f10-a406-95717557a7bc"
   },
   "outputs": [
    {
     "data": {
      "application/javascript": [
       "\n",
       "        window._wandbApiKey = new Promise((resolve, reject) => {\n",
       "            function loadScript(url) {\n",
       "            return new Promise(function(resolve, reject) {\n",
       "                let newScript = document.createElement(\"script\");\n",
       "                newScript.onerror = reject;\n",
       "                newScript.onload = resolve;\n",
       "                document.body.appendChild(newScript);\n",
       "                newScript.src = url;\n",
       "            });\n",
       "            }\n",
       "            loadScript(\"https://cdn.jsdelivr.net/npm/postmate/build/postmate.min.js\").then(() => {\n",
       "            const iframe = document.createElement('iframe')\n",
       "            iframe.style.cssText = \"width:0;height:0;border:none\"\n",
       "            document.body.appendChild(iframe)\n",
       "            const handshake = new Postmate({\n",
       "                container: iframe,\n",
       "                url: 'https://wandb.ai/authorize'\n",
       "            });\n",
       "            const timeout = setTimeout(() => reject(\"Couldn't auto authenticate\"), 5000)\n",
       "            handshake.then(function(child) {\n",
       "                child.on('authorize', data => {\n",
       "                    clearTimeout(timeout)\n",
       "                    resolve(data)\n",
       "                });\n",
       "            });\n",
       "            })\n",
       "        });\n",
       "    "
      ],
      "text/plain": [
       "<IPython.core.display.Javascript object>"
      ]
     },
     "metadata": {
      "tags": []
     },
     "output_type": "display_data"
    },
    {
     "name": "stderr",
     "output_type": "stream",
     "text": [
      "\u001b[34m\u001b[1mwandb\u001b[0m: Appending key for api.wandb.ai to your netrc file: /root/.netrc\n"
     ]
    },
    {
     "data": {
      "text/html": [
       "\n",
       "                Tracking run with wandb version 0.10.25<br/>\n",
       "                Syncing run <strong style=\"color:#cdcd00\">raw_data</strong> to <a href=\"https://wandb.ai\" target=\"_blank\">Weights & Biases</a> <a href=\"https://docs.wandb.com/integrations/jupyter.html\" target=\"_blank\">(Documentation)</a>.<br/>\n",
       "                Project page: <a href=\"https://wandb.ai/windsuzu/phonetic-translation\" target=\"_blank\">https://wandb.ai/windsuzu/phonetic-translation</a><br/>\n",
       "                Run page: <a href=\"https://wandb.ai/windsuzu/phonetic-translation/runs/2x0aragc\" target=\"_blank\">https://wandb.ai/windsuzu/phonetic-translation/runs/2x0aragc</a><br/>\n",
       "                Run data is saved locally in <code>/content/wandb/run-20210413_084456-2x0aragc</code><br/><br/>\n",
       "            "
      ],
      "text/plain": [
       "<IPython.core.display.HTML object>"
      ]
     },
     "metadata": {
      "tags": []
     },
     "output_type": "display_data"
    }
   ],
   "source": [
    "run = wandb.init(project='phonetic-translation', \n",
    "                 entity='windsuzu',\n",
    "                 group=\"dataset\",\n",
    "                 name=\"raw_data\",\n",
    "                 job_type=\"data_upload\")"
   ]
  },
  {
   "cell_type": "code",
   "execution_count": 5,
   "metadata": {
    "executionInfo": {
     "elapsed": 10893,
     "status": "ok",
     "timestamp": 1618303525088,
     "user": {
      "displayName": "NE6081022王士杰",
      "photoUrl": "",
      "userId": "16413260345102275028"
     },
     "user_tz": -480
    },
    "id": "B5i2IKDro6dA"
   },
   "outputs": [],
   "source": [
    "# save raw txt file to artifact\r\n",
    "#\r\n",
    "# |-- train\r\n",
    "#     |-- ch & jp\r\n",
    "# |-- dev\r\n",
    "#     |-- ch & jp\r\n",
    "# |-- devtest\r\n",
    "#     |-- ch & jp\r\n",
    "# |-- test\r\n",
    "#     |-- ch & jp\r\n",
    "\r\n",
    "root_dir = Path.cwd().parent\r\n",
    "data_dir = root_dir / \"dataset\" / \"ASPEC-JC\"\r\n",
    "raw_data_types = [\"train\", \"dev\", \"devtest\", \"test\"]\r\n",
    "\r\n",
    "artifacts = {}\r\n",
    "\r\n",
    "for data_type in raw_data_types:\r\n",
    "    artifacts[data_type] = wandb.Artifact(data_type, \"raw_data\")\r\n",
    "    artifacts[data_type].add_file(data_dir / data_type / \"ch.txt\", \"ch.txt\")\r\n",
    "    artifacts[data_type].add_file(data_dir / data_type / \"jp.txt\", \"jp.txt\")\r\n",
    "\r\n",
    "for data_type, artifact in artifacts.items():\r\n",
    "    run.log_artifact(artifact)"
   ]
  },
  {
   "cell_type": "markdown",
   "metadata": {},
   "source": [
    "---\r\n",
    "# Corpus Filtering"
   ]
  },
  {
   "cell_type": "code",
   "execution_count": 2,
   "metadata": {},
   "outputs": [
    {
     "name": "stderr",
     "output_type": "stream",
     "text": [
      "Failed to detect the name of this notebook, you can set it manually with the WANDB_NOTEBOOK_NAME environment variable to enable code saving.\n",
      "\u001b[34m\u001b[1mwandb\u001b[0m: Currently logged in as: \u001b[33mwindsuzu\u001b[0m (use `wandb login --relogin` to force relogin)\n"
     ]
    },
    {
     "data": {
      "text/html": "\n                Tracking run with wandb version 0.10.28<br/>\n                Syncing run <strong style=\"color:#cdcd00\">honest-lion-135</strong> to <a href=\"https://wandb.ai\" target=\"_blank\">Weights & Biases</a> <a href=\"https://docs.wandb.com/integrations/jupyter.html\" target=\"_blank\">(Documentation)</a>.<br/>\n                Project page: <a href=\"https://wandb.ai/windsuzu/phonetic-translation\" target=\"_blank\">https://wandb.ai/windsuzu/phonetic-translation</a><br/>\n                Run page: <a href=\"https://wandb.ai/windsuzu/phonetic-translation/runs/2gpnjpav\" target=\"_blank\">https://wandb.ai/windsuzu/phonetic-translation/runs/2gpnjpav</a><br/>\n                Run data is saved locally in <code>/home/windsuzu/phonetics-in-chinese-japanese-machine-translation/experiments/main/wandb/run-20210501_171419-2gpnjpav</code><br/><br/>\n            ",
      "text/plain": "<IPython.core.display.HTML object>"
     },
     "metadata": {},
     "output_type": "display_data"
    }
   ],
   "source": [
    "run = wandb.init(project='phonetic-translation', \r\n",
    "                 entity='windsuzu',\r\n",
    "                 group=\"dataset\",\r\n",
    "                 job_type=\"corpus_filtering\")"
   ]
  },
  {
   "cell_type": "code",
   "execution_count": 5,
   "metadata": {},
   "outputs": [
    {
     "name": "stderr",
     "output_type": "stream",
     "text": [
      "wandb: Downloading large artifact train:latest, 205.64MB. 2 files... Done. 0:0:0\n"
     ]
    }
   ],
   "source": [
    "# Download Raw Data\r\n",
    "train_data_art = run.use_artifact(\"train:latest\")\r\n",
    "train_data_dir = train_data_art.download()\r\n",
    "\r\n",
    "# Open Raw Data\r\n",
    "with open(Path(train_data_dir) / \"ch.txt\", encoding=\"utf8\") as f:\r\n",
    "    ch_docs = f.readlines()\r\n",
    "\r\n",
    "with open(Path(train_data_dir) / \"jp.txt\", encoding=\"utf8\") as f:\r\n",
    "    jp_docs = f.readlines()"
   ]
  },
  {
   "cell_type": "code",
   "execution_count": 7,
   "metadata": {},
   "outputs": [
    {
     "data": {
      "text/plain": "672315"
     },
     "execution_count": 7,
     "metadata": {},
     "output_type": "execute_result"
    }
   ],
   "source": [
    "original_parallel_docs = list(zip(ch_docs, jp_docs))\r\n",
    "len(original_parallel_docs)"
   ]
  },
  {
   "cell_type": "markdown",
   "metadata": {},
   "source": [
    "## Define Filtering Functions"
   ]
  },
  {
   "cell_type": "code",
   "execution_count": 8,
   "metadata": {},
   "outputs": [
    {
     "name": "stderr",
     "output_type": "stream",
     "text": [
      "Warning : `load_model` does not return WordVectorModel or SupervisedModel any more, but a `FastText` object which is very similar.\n"
     ]
    }
   ],
   "source": [
    "PRETRAINED_MODEL_PATH = '../fasttext/lid.176.bin'\r\n",
    "model = fasttext.load_model(PRETRAINED_MODEL_PATH)\r\n",
    "\r\n",
    "\r\n",
    "def pass_length_ratio(ch, jp):\r\n",
    "    l_r = len(ch) / len(jp)\r\n",
    "    return l_r > 0.5 and l_r < 1.4\r\n",
    "\r\n",
    "\r\n",
    "def pass_length(ch, jp):\r\n",
    "    return len(ch) > 5 and len(ch) < 80 and len(jp) > 10 and len(jp) < 100\r\n",
    "\r\n",
    "\r\n",
    "def pass_same_sentence(ch, jp):\r\n",
    "    return ch != jp\r\n",
    "\r\n",
    "\r\n",
    "def pass_language_identification(ch, jp):\r\n",
    "    return model.predict(ch.strip())[0][0] == \"__label__zh\" and model.predict(jp.strip())[0][0] == \"__label__ja\"\r\n",
    "\r\n",
    "\r\n",
    "def pass_imbalance_word(text):\r\n",
    "    count = 0\r\n",
    "    for c in text.strip():\r\n",
    "        try:\r\n",
    "            # find the difference between (ch+jp) and (en+num+space)\r\n",
    "            if c.encode(\"ascii\").isalpha() or c.isdigit() or c.isspace():\r\n",
    "                count += 1\r\n",
    "        except:\r\n",
    "            pass\r\n",
    "    \r\n",
    "    actual = len(text) - count\r\n",
    "    return actual > count"
   ]
  },
  {
   "cell_type": "markdown",
   "metadata": {},
   "source": [
    "## Basic Corpus Filtering\r\n",
    "\r\n",
    "1. 刪除長度比例過大的句子\r\n",
    "2. 刪除過短或過長的句子\r\n",
    "3. 刪除一樣的句子\r\n",
    "4. 刪除不能被 fasttext identification model 認出語言的句子\r\n",
    "5. 刪除英文、數字符號多於中日文的句子\r\n",
    "6. 刪除有多種對應的翻譯的句子\r\n"
   ]
  },
  {
   "cell_type": "code",
   "execution_count": 9,
   "metadata": {},
   "outputs": [
    {
     "data": {
      "text/plain": "557685"
     },
     "execution_count": 9,
     "metadata": {},
     "output_type": "execute_result"
    }
   ],
   "source": [
    "filtered = []\r\n",
    "overlap = {}\r\n",
    "\r\n",
    "for ch, jp in original_parallel_docs:\r\n",
    "    # change full-width character to half-width\r\n",
    "    ch = unicodedata.normalize(\"NFKC\", ch)\r\n",
    "    jp = unicodedata.normalize(\"NFKC\", jp)\r\n",
    "    \r\n",
    "    if not pass_length_ratio(ch, jp):\r\n",
    "        continue\r\n",
    "    \r\n",
    "    if not pass_length(ch, jp):\r\n",
    "        continue\r\n",
    "    \r\n",
    "    if not pass_same_sentence(ch, jp):\r\n",
    "        continue\r\n",
    "    \r\n",
    "    if not pass_language_identification(ch, jp):\r\n",
    "        continue\r\n",
    "    \r\n",
    "    if not pass_imbalance_word(ch) or not pass_imbalance_word(jp):\r\n",
    "        continue\r\n",
    "    \r\n",
    "    if overlap.get(ch) or overlap.get(jp):\r\n",
    "        continue\r\n",
    "    else:\r\n",
    "        overlap[ch] = jp\r\n",
    "        overlap[jp] = ch\r\n",
    "        \r\n",
    "    filtered.append((ch, jp))\r\n",
    "\r\n",
    "len(filtered)"
   ]
  },
  {
   "cell_type": "markdown",
   "metadata": {},
   "source": [
    "## Word Alignment\r\n",
    "\r\n",
    "### Step 1\r\n",
    "\r\n",
    "把所有的中文和日文句子都用 jieba 和 janome 進行 tokenization，並組合成要丟進 fast_align 模型的格式。"
   ]
  },
  {
   "cell_type": "code",
   "execution_count": 13,
   "metadata": {},
   "outputs": [],
   "source": [
    "janome = ja_tokenizer()\r\n",
    "corpus = []\r\n",
    "\r\n",
    "for ch, jp in filtered:\r\n",
    "    ch_str_tokenized = \" \".join(jieba.cut(ch[:-1]))\r\n",
    "    jp_str_tokenized = \" \".join(janome.tokenize(jp[:-1], wakati=True))\r\n",
    "    line = f\"{ch_str_tokenized} ||| {jp_str_tokenized}\\n\"\r\n",
    "    corpus.append(line)\r\n",
    "\r\n",
    "with open(\"corpus.zh-ja\", 'w', encoding=\"utf8\") as f:\r\n",
    "    f.writelines(corpus)"
   ]
  },
  {
   "cell_type": "markdown",
   "metadata": {},
   "source": [
    "### Step 2\r\n",
    "\r\n",
    "用 fast_align 跑出 `forward.align` 和 `reverse.align` 計算每一句的 word_alignment 分數。\r\n",
    "\r\n",
    "`align` 文件的每一行格式為: `alignment ||| score`"
   ]
  },
  {
   "cell_type": "code",
   "execution_count": 59,
   "metadata": {},
   "outputs": [],
   "source": [
    "# ./fast_align -i corpus/corpus.zh-ja -d -o -v -s > corpus/forward.align\r\n",
    "# ./fast_align -i corpus/corpus.zh-ja -d -o -v -s -r > corpus/reverse.align\r\n",
    "\r\n",
    "with open(\"../fast_align/corpus/forward.align\") as f:\r\n",
    "    forward = list(map(lambda x: float(x.split(\" ||| \")[1].strip()), f.readlines()))\r\n",
    "\r\n",
    "with open(\"../fast_align/corpus/reverse.align\") as f:\r\n",
    "    reverse = list(map(lambda x: float(x.split(\" ||| \")[1].strip()), f.readlines()))"
   ]
  },
  {
   "cell_type": "markdown",
   "metadata": {},
   "source": [
    "### Step 3\r\n",
    "\r\n",
    "刪除機率小於 -160 的句子 (共 96703 句)，目的主要是降低資料集大小。"
   ]
  },
  {
   "cell_type": "code",
   "execution_count": 87,
   "metadata": {},
   "outputs": [
    {
     "data": {
      "text/plain": "(array([2.90000e+01, 3.54000e+03, 9.31340e+04, 2.87882e+05, 1.73100e+05]),\n array([-395.466   , -317.093915, -238.72183 , -160.349745,  -81.97766 ,\n          -3.605575]),\n <BarContainer object of 5 artists>)"
     },
     "execution_count": 87,
     "metadata": {},
     "output_type": "execute_result"
    },
    {
     "data": {
      "image/png": "[encoded data removed]",
      "text/plain": "<Figure size 432x288 with 1 Axes>"
     },
     "metadata": {
      "needs_background": "light"
     },
     "output_type": "display_data"
    }
   ],
   "source": [
    "alignment_scores = [sum(score) / 2 for score in zip(forward, reverse)]\r\n",
    "plt.hist(alignment_scores, bins=5)\r\n",
    "\r\n",
    "# -3 ~ -81     173100\r\n",
    "# -81 ~ -160   287882\r\n",
    "#\r\n",
    "# -160 ~ -238  93134\r\n",
    "# -238 ~ -317  3540\r\n",
    "# -317 ~ -395  29"
   ]
  },
  {
   "cell_type": "code",
   "execution_count": 90,
   "metadata": {},
   "outputs": [],
   "source": [
    "final_filtered = []\r\n",
    "for i, score in enumerate(alignment_scores):\r\n",
    "    if score > -161:\r\n",
    "        final_filtered.append(filtered[i])"
   ]
  },
  {
   "cell_type": "code",
   "execution_count": 134,
   "metadata": {},
   "outputs": [
    {
     "data": {
      "text/plain": "462582"
     },
     "execution_count": 134,
     "metadata": {},
     "output_type": "execute_result"
    }
   ],
   "source": [
    "len(final_filtered)"
   ]
  },
  {
   "cell_type": "code",
   "execution_count": 4,
   "metadata": {},
   "outputs": [],
   "source": [
    "root_dir = Path.cwd().parent\n",
    "data_dir = root_dir / \"dataset\" / \"ASPEC-JC\"\n",
    "\n",
    "ch = np.array(final_filtered)[:, 0]\n",
    "jp = np.array(final_filtered)[:, 1]\n",
    "\n",
    "np.savetxt(data_dir / \"train\" / \"filtered_ch.txt\", ch, fmt=\"%s\", newline=\"\", encoding=\"utf8\")\n",
    "np.savetxt(data_dir / \"train\" / \"filtered_jp.txt\", jp, fmt=\"%s\", newline=\"\", encoding=\"utf8\")"
   ]
  },
  {
   "cell_type": "markdown",
   "metadata": {},
   "source": [
    "## Log Filtered Data"
   ]
  },
  {
   "cell_type": "code",
   "execution_count": 5,
   "metadata": {},
   "outputs": [
    {
     "data": {
      "text/plain": "<wandb.sdk.wandb_artifacts.Artifact at 0x7fd4560da730>"
     },
     "execution_count": 5,
     "metadata": {},
     "output_type": "execute_result"
    }
   ],
   "source": [
    "filtered_artifact = wandb.Artifact(\"filtered_train\", \"filtered_data\")\n",
    "\n",
    "filtered_artifact.add_file(data_dir / \"train\" / \"filtered_ch.txt\", \"ch.txt\")\n",
    "filtered_artifact.add_file(data_dir / \"train\" / \"filtered_jp.txt\", \"jp.txt\")\n",
    "\n",
    "run.log_artifact(filtered_artifact)"
   ]
  },
  {
   "cell_type": "markdown",
   "metadata": {
    "id": "eUpMP-eOpnLv",
    "tags": []
   },
   "source": [
    "---\n",
    "\n",
    "# Google Sentencepiece Tokenization"
   ]
  },
  {
   "cell_type": "code",
   "execution_count": 124,
   "metadata": {
    "colab": {
     "base_uri": "https://localhost:8080/",
     "height": 306,
     "referenced_widgets": [
      "68b8a22147e642cb9ff32404a6f5df73",
      "ba8723ef855e46a9a489b50225bd1acb",
      "c14f1062d03c447a93a6cf85d944e093",
      "e87be027a35141a590e8173b3c2895f0",
      "af90fbddd11b43518d019073b56cb6d9",
      "1c164ba062484ac795b19c71632a6652",
      "3a34f0eeb71c4197b4c232afe2bf3162",
      "5890ac78442d4427bf7e74b26fa68b3f"
     ]
    },
    "executionInfo": {
     "elapsed": 6097,
     "status": "ok",
     "timestamp": 1618305901658,
     "user": {
      "displayName": "NE6081022王士杰",
      "photoUrl": "",
      "userId": "16413260345102275028"
     },
     "user_tz": -480
    },
    "id": "yjlnnAp1qBEJ",
    "outputId": "5c670c8f-c4ca-4ba5-ca74-93295f4eb977",
    "tags": []
   },
   "outputs": [
    {
     "data": {
      "text/html": "\n                Tracking run with wandb version 0.10.28<br/>\n                Syncing run <strong style=\"color:#cdcd00\">sentence_piece</strong> to <a href=\"https://wandb.ai\" target=\"_blank\">Weights & Biases</a> <a href=\"https://docs.wandb.com/integrations/jupyter.html\" target=\"_blank\">(Documentation)</a>.<br/>\n                Project page: <a href=\"https://wandb.ai/windsuzu/phonetic-translation\" target=\"_blank\">https://wandb.ai/windsuzu/phonetic-translation</a><br/>\n                Run page: <a href=\"https://wandb.ai/windsuzu/phonetic-translation/runs/1rb8k7mv\" target=\"_blank\">https://wandb.ai/windsuzu/phonetic-translation/runs/1rb8k7mv</a><br/>\n                Run data is saved locally in <code>d:\\Projects\\phonetics-in-chinese-japanese-machine-translation\\experiments\\main\\wandb\\run-20210501_002245-1rb8k7mv</code><br/><br/>\n            ",
      "text/plain": "<IPython.core.display.HTML object>"
     },
     "metadata": {},
     "output_type": "display_data"
    }
   ],
   "source": [
    "run = wandb.init(project='phonetic-translation', \n",
    "                 entity='windsuzu',\n",
    "                 group=\"tokenizer\",\n",
    "                 name=\"sentence_piece\",\n",
    "                 job_type=\"build_tokenizer\")"
   ]
  },
  {
   "cell_type": "code",
   "execution_count": 125,
   "metadata": {
    "colab": {
     "base_uri": "https://localhost:8080/"
    },
    "executionInfo": {
     "elapsed": 1438,
     "status": "ok",
     "timestamp": 1618305904606,
     "user": {
      "displayName": "NE6081022王士杰",
      "photoUrl": "",
      "userId": "16413260345102275028"
     },
     "user_tz": -480
    },
    "id": "lpd_nM0khGat",
    "outputId": "9bc5ffb5-82e3-4762-9db9-274835071347"
   },
   "outputs": [
    {
     "name": "stderr",
     "output_type": "stream",
     "text": [
      "wandb: Downloading large artifact filtered_train:latest, 99.47MB. 2 files... Done. 0:0:0\n"
     ]
    }
   ],
   "source": [
    "# Download Raw Data\r\n",
    "train_data_art = run.use_artifact(\"filtered_train:latest\")\r\n",
    "train_data_dir = train_data_art.download()"
   ]
  },
  {
   "cell_type": "code",
   "execution_count": 126,
   "metadata": {
    "executionInfo": {
     "elapsed": 930,
     "status": "ok",
     "timestamp": 1618305906923,
     "user": {
      "displayName": "NE6081022王士杰",
      "photoUrl": "",
      "userId": "16413260345102275028"
     },
     "user_tz": -480
    },
    "id": "M19hCES8qU3l"
   },
   "outputs": [],
   "source": [
    "def sentence_piece_tokenizer(unk_token=\"[UNK]\", dropout: float = None):\n",
    "    tokenizer = Tokenizer(BPE(dropout=dropout, unk_token=unk_token))\n",
    "    tokenizer.normalizer = NFKC()\n",
    "    tokenizer.pre_tokenizer = pre_tokenizers.Sequence(\n",
    "        [\n",
    "            pre_tokenizers.Whitespace(),\n",
    "            pre_tokenizers.Punctuation(),\n",
    "            pre_tokenizers.Digits(),\n",
    "            pre_tokenizers.Metaspace(replacement=\"_\", add_prefix_space=True),\n",
    "        ]\n",
    "    )\n",
    "\n",
    "    tokenizer.decoder = decoders.Metaspace(replacement=\"_\", add_prefix_space=True)\n",
    "    return tokenizer\n",
    "\n",
    "\n",
    "def train_tokenizer(\n",
    "    tokenizer,\n",
    "    files,\n",
    "    unk_token=\"[UNK]\",\n",
    "    vocab_size=32000,\n",
    "    show_progress=True,\n",
    "    min_frequency=1,\n",
    "):\n",
    "    trainer = BpeTrainer(\n",
    "        special_tokens=[unk_token, \"[BOS]\", \"[EOS]\", \"[PAD]\"],\n",
    "        vocab_size=vocab_size,\n",
    "        show_prorgess=show_progress,\n",
    "        min_frequency=min_frequency,\n",
    "    )\n",
    "\n",
    "    if isinstance(files, str):\n",
    "        files = [files]\n",
    "\n",
    "    tokenizer.train(files, trainer=trainer)\n",
    "\n",
    "\n",
    "def build_tokenizer(tokenizer_save_path: str, train_text_path: str, min_frequency=1):\n",
    "    assert train_text_path.exists(), \"Training Raw Text does not exist.\"\n",
    "\n",
    "    if not tokenizer_save_path.exists():\n",
    "        tokenizer = sentence_piece_tokenizer()\n",
    "\n",
    "        # Train tokenizer\n",
    "        train_tokenizer(tokenizer, str(train_text_path), min_frequency=min_frequency)\n",
    "\n",
    "        # Enable Padding\n",
    "        tokenizer.enable_padding(\n",
    "            pad_id=tokenizer.token_to_id(\"[PAD]\"), pad_token=\"[PAD]\"\n",
    "        )\n",
    "\n",
    "        # Encode => BOS + sentence + EOS\n",
    "        set_post_processor(tokenizer)\n",
    "\n",
    "        tokenizer.save(str(tokenizer_save_path))\n",
    "    else:\n",
    "        tokenizer = Tokenizer.from_file(str(tokenizer_save_path))\n",
    "\n",
    "    return tokenizer\n",
    "\n",
    "\n",
    "def set_post_processor(tokenizer):\n",
    "    tokenizer.post_processor = TemplateProcessing(\n",
    "        single=\"[BOS] $A [EOS]\",\n",
    "        special_tokens=[\n",
    "            (\"[BOS]\", tokenizer.token_to_id(\"[BOS]\")),\n",
    "            (\"[EOS]\", tokenizer.token_to_id(\"[EOS]\")),\n",
    "        ],\n",
    "    )"
   ]
  },
  {
   "cell_type": "code",
   "execution_count": 127,
   "metadata": {
    "executionInfo": {
     "elapsed": 896,
     "status": "ok",
     "timestamp": 1618305907270,
     "user": {
      "displayName": "NE6081022王士杰",
      "photoUrl": "",
      "userId": "16413260345102275028"
     },
     "user_tz": -480
    },
    "id": "3Im8LFxeqy98"
   },
   "outputs": [],
   "source": [
    "# Get Tokenizer.json File Path\n",
    "\n",
    "root_dir = Path.cwd().parent\n",
    "tokenizer_dir = root_dir / \"tokenizer\"\n",
    "tokenizer_dir.mkdir(parents=True, exist_ok=True)\n",
    "\n",
    "ch_tokenizer_dir = tokenizer_dir / \"tokenizer_sentencepiece_ch.json\"\n",
    "jp_tokenizer_dir = tokenizer_dir / \"tokenizer_sentencepiece_jp.json\""
   ]
  },
  {
   "cell_type": "code",
   "execution_count": 129,
   "metadata": {
    "executionInfo": {
     "elapsed": 680,
     "status": "ok",
     "timestamp": 1618305907906,
     "user": {
      "displayName": "NE6081022王士杰",
      "photoUrl": "",
      "userId": "16413260345102275028"
     },
     "user_tz": -480
    },
    "id": "SlGsMPhe-sao"
   },
   "outputs": [],
   "source": [
    "ch_tokenizer = build_tokenizer(ch_tokenizer_dir, Path(train_data_dir) / \"filtered_ch.txt\", min_frequency=2)\r\n",
    "jp_tokenizer = build_tokenizer(jp_tokenizer_dir, Path(train_data_dir) / \"filtered_jp.txt\", min_frequency=2)"
   ]
  },
  {
   "cell_type": "code",
   "execution_count": 130,
   "metadata": {
    "colab": {
     "base_uri": "https://localhost:8080/",
     "height": 120
    },
    "executionInfo": {
     "elapsed": 673,
     "status": "ok",
     "timestamp": 1618305908555,
     "user": {
      "displayName": "NE6081022王士杰",
      "photoUrl": "",
      "userId": "16413260345102275028"
     },
     "user_tz": -480
    },
    "id": "meA6U3Gxh30s",
    "outputId": "dfa83d74-9df6-4469-98d4-f71109b76ef0"
   },
   "outputs": [
    {
     "name": "stdout",
     "output_type": "stream",
     "text": [
      "[('传送到', 13975), ('_应当', 24095), ('路', 4527), ('有多个', 15366), ('要高', 13866), ('拉长', 28030), ('的流程', 19359), ('°', 101), ('出席', 19479), ('枪', 2263)]\n",
      "32000\n",
      "\n",
      "[1, 66, 3598, 1137, 25173, 2598, 2906, 667, 6265, 20542, 29308, 10185, 5896, 5387, 6432, 5381, 5765, 8231, 5378, 66, 0, 2]\n",
      "['[BOS]', '_', '缅', '因', '州的', '波', '特', '兰', '拥有', 'Ri', 'vers', 'ide', '循环', '使用', '设施', '_(', '_R', 'RF', '_)', '_', '[UNK]', '[EOS]']\n"
     ]
    },
    {
     "data": {
      "text/plain": "'缅因州的波特兰拥有Riverside循环使用设施 ( RRF ) '"
     },
     "execution_count": 130,
     "metadata": {},
     "output_type": "execute_result"
    }
   ],
   "source": [
    "# Print first ten vocab\n",
    "print([(key, val) for key, val in ch_tokenizer.get_vocab().items()][:10])\n",
    "print(ch_tokenizer.get_vocab_size())\n",
    "print()\n",
    "\n",
    "# Encode and Decode Testing\n",
    "encoded = ch_tokenizer.encode(\"缅因州的波特兰拥有Ｒｉｖｅｒｓｉｄｅ循环使用设施（ＲＲＦ）😀\")\n",
    "\n",
    "print(encoded.ids)\n",
    "print(encoded.tokens)\n",
    "ch_tokenizer.decode(encoded.ids)"
   ]
  },
  {
   "cell_type": "code",
   "execution_count": 131,
   "metadata": {
    "colab": {
     "base_uri": "https://localhost:8080/"
    },
    "executionInfo": {
     "elapsed": 624,
     "status": "ok",
     "timestamp": 1618305909068,
     "user": {
      "displayName": "NE6081022王士杰",
      "photoUrl": "",
      "userId": "16413260345102275028"
     },
     "user_tz": -480
    },
    "id": "sFQlvvVIDyqK",
    "outputId": "477601f8-0222-48be-9be8-f96b74afd80d",
    "tags": []
   },
   "outputs": [
    {
     "name": "stdout",
     "output_type": "stream",
     "text": [
      "[('が最も多く', 21270), ('全て', 5789), ('現場で', 22870), ('不満', 29539), ('_合計', 11997), ('_負荷', 10119), ('報酬', 6759), ('契機', 15329), ('二種類の', 21339), ('波の', 13301)]\n",
      "32000\n",
      "\n",
      "[1, 3961, 6067, 4144, 4073, 5229, 26146, 716, 2, 3, 3, 3, 3]\n",
      "['[BOS]', '_C', '_&', '_D', '管理', '施設', 'の高度', '化', '[EOS]', '[PAD]', '[PAD]', '[PAD]', '[PAD]']\n",
      "[1, 1, 1, 1, 1, 1, 1, 1, 1, 0, 0, 0, 0]\n",
      "C & D管理施設の高度化\n",
      "\n",
      "[1, 63, 0, 9811, 1836, 2511, 4118, 4290, 4720, 361, 8074, 716, 2]\n",
      "['[BOS]', '_', '[UNK]', '_異', '業', '種', 'ネットワーク', 'からの', '地域', 'ブ', 'ランド', '化', '[EOS]']\n",
      "[1, 1, 1, 1, 1, 1, 1, 1, 1, 1, 1, 1, 1]\n",
      " 異業種ネットワークからの地域ブランド化\n",
      "\n"
     ]
    }
   ],
   "source": [
    "# Print first ten vocab\n",
    "print([(key, val) for key, val in jp_tokenizer.get_vocab().items()][:10])\n",
    "print(jp_tokenizer.get_vocab_size())\n",
    "print()\n",
    "\n",
    "# Encode and Decode Testing\n",
    "encoded = jp_tokenizer.encode_batch([\"Ｃ＆Ｄ管理施設の高度化\", \"😀異業種ネットワークからの地域ブランド化\"])\n",
    "\n",
    "for i in range(2):\n",
    "    print(encoded[i].ids)\n",
    "    print(encoded[i].tokens)\n",
    "    print(encoded[i].attention_mask)\n",
    "    print(jp_tokenizer.decode(encoded[i].ids))\n",
    "    print()"
   ]
  },
  {
   "cell_type": "markdown",
   "metadata": {
    "id": "PHvXQUoBRmDi"
   },
   "source": [
    "## Log Tokenizer Artifact"
   ]
  },
  {
   "cell_type": "code",
   "execution_count": 132,
   "metadata": {
    "colab": {
     "base_uri": "https://localhost:8080/"
    },
    "executionInfo": {
     "elapsed": 1399,
     "status": "ok",
     "timestamp": 1618305911515,
     "user": {
      "displayName": "NE6081022王士杰",
      "photoUrl": "",
      "userId": "16413260345102275028"
     },
     "user_tz": -480
    },
    "id": "zo-Y3hXjRbSC",
    "outputId": "6de0d4c6-e51e-4a9b-83f9-e2c87dcce7b7"
   },
   "outputs": [
    {
     "data": {
      "text/plain": "<wandb.sdk.wandb_artifacts.Artifact at 0x1e01c171d90>"
     },
     "execution_count": 132,
     "metadata": {},
     "output_type": "execute_result"
    }
   ],
   "source": [
    "artifact = wandb.Artifact(\"sentencepiece\", \r\n",
    "                          type=\"tokenizer\",\r\n",
    "                          metadata={\"vocab\": 32000, \r\n",
    "                                    \"method\": \"SentencePiece\",\r\n",
    "                                    \"min_frequency\": 2})\r\n",
    "\r\n",
    "artifact.add_file(ch_tokenizer_dir, \"ch_tokenizer.json\")\r\n",
    "artifact.add_file(jp_tokenizer_dir, \"jp_tokenizer.json\")\r\n",
    "run.log_artifact(artifact)"
   ]
  }
 ],
 "metadata": {
  "colab": {
   "authorship_tag": "ABX9TyNfjeD/O41ga4aGmZW502GJ",
   "collapsed_sections": [],
   "mount_file_id": "1L02Qk-Dm-jqIakxj9MCrbk4fmL4qkjaN",
   "name": "ASPEC_JC_preprocess.ipynb",
   "provenance": [],
   "toc_visible": true
  },
  "kernelspec": {
   "display_name": "Python 3.8.5 64-bit ('base': conda)",
   "name": "python385jvsc74a57bd079b9df49ac430b00ede86aa066ef9244a5bf89bf4dad1c74865db678bf985bb6"
  },
  "language_info": {
   "codemirror_mode": {
    "name": "ipython",
    "version": 3
   },
   "file_extension": ".py",
   "mimetype": "text/x-python",
   "name": "python",
   "nbconvert_exporter": "python",
   "pygments_lexer": "ipython3",
   "version": "3.8.5"
  },
  "toc-autonumbering": true,
  "toc-showcode": false,
  "toc-showmarkdowntxt": false,
  "toc-showtags": false,
  "widgets": {
   "application/vnd.jupyter.widget-state+json": {
    "1c164ba062484ac795b19c71632a6652": {
     "model_module": "@jupyter-widgets/base",
     "model_name": "LayoutModel",
     "state": {
      "_model_module": "@jupyter-widgets/base",
      "_model_module_version": "1.2.0",
      "_model_name": "LayoutModel",
      "_view_count": null,
      "_view_module": "@jupyter-widgets/base",
      "_view_module_version": "1.2.0",
      "_view_name": "LayoutView",
      "align_content": null,
      "align_items": null,
      "align_self": null,
      "border": null,
      "bottom": null,
      "display": null,
      "flex": null,
      "flex_flow": null,
      "grid_area": null,
      "grid_auto_columns": null,
      "grid_auto_flow": null,
      "grid_auto_rows": null,
      "grid_column": null,
      "grid_gap": null,
      "grid_row": null,
      "grid_template_areas": null,
      "grid_template_columns": null,
      "grid_template_rows": null,
      "height": null,
      "justify_content": null,
      "justify_items": null,
      "left": null,
      "margin": null,
      "max_height": null,
      "max_width": null,
      "min_height": null,
      "min_width": null,
      "object_fit": null,
      "object_position": null,
      "order": null,
      "overflow": null,
      "overflow_x": null,
      "overflow_y": null,
      "padding": null,
      "right": null,
      "top": null,
      "visibility": null,
      "width": null
     }
    },
    "3a34f0eeb71c4197b4c232afe2bf3162": {
     "model_module": "@jupyter-widgets/controls",
     "model_name": "ProgressStyleModel",
     "state": {
      "_model_module": "@jupyter-widgets/controls",
      "_model_module_version": "1.5.0",
      "_model_name": "ProgressStyleModel",
      "_view_count": null,
      "_view_module": "@jupyter-widgets/base",
      "_view_module_version": "1.2.0",
      "_view_name": "StyleView",
      "bar_color": null,
      "description_width": ""
     }
    },
    "5890ac78442d4427bf7e74b26fa68b3f": {
     "model_module": "@jupyter-widgets/base",
     "model_name": "LayoutModel",
     "state": {
      "_model_module": "@jupyter-widgets/base",
      "_model_module_version": "1.2.0",
      "_model_name": "LayoutModel",
      "_view_count": null,
      "_view_module": "@jupyter-widgets/base",
      "_view_module_version": "1.2.0",
      "_view_name": "LayoutView",
      "align_content": null,
      "align_items": null,
      "align_self": null,
      "border": null,
      "bottom": null,
      "display": null,
      "flex": null,
      "flex_flow": null,
      "grid_area": null,
      "grid_auto_columns": null,
      "grid_auto_flow": null,
      "grid_auto_rows": null,
      "grid_column": null,
      "grid_gap": null,
      "grid_row": null,
      "grid_template_areas": null,
      "grid_template_columns": null,
      "grid_template_rows": null,
      "height": null,
      "justify_content": null,
      "justify_items": null,
      "left": null,
      "margin": null,
      "max_height": null,
      "max_width": null,
      "min_height": null,
      "min_width": null,
      "object_fit": null,
      "object_position": null,
      "order": null,
      "overflow": null,
      "overflow_x": null,
      "overflow_y": null,
      "padding": null,
      "right": null,
      "top": null,
      "visibility": null,
      "width": null
     }
    },
    "68b8a22147e642cb9ff32404a6f5df73": {
     "model_module": "@jupyter-widgets/controls",
     "model_name": "VBoxModel",
     "state": {
      "_dom_classes": [],
      "_model_module": "@jupyter-widgets/controls",
      "_model_module_version": "1.5.0",
      "_model_name": "VBoxModel",
      "_view_count": null,
      "_view_module": "@jupyter-widgets/controls",
      "_view_module_version": "1.5.0",
      "_view_name": "VBoxView",
      "box_style": "",
      "children": [
       "IPY_MODEL_c14f1062d03c447a93a6cf85d944e093",
       "IPY_MODEL_e87be027a35141a590e8173b3c2895f0"
      ],
      "layout": "IPY_MODEL_ba8723ef855e46a9a489b50225bd1acb"
     }
    },
    "af90fbddd11b43518d019073b56cb6d9": {
     "model_module": "@jupyter-widgets/controls",
     "model_name": "DescriptionStyleModel",
     "state": {
      "_model_module": "@jupyter-widgets/controls",
      "_model_module_version": "1.5.0",
      "_model_name": "DescriptionStyleModel",
      "_view_count": null,
      "_view_module": "@jupyter-widgets/base",
      "_view_module_version": "1.2.0",
      "_view_name": "StyleView",
      "description_width": ""
     }
    },
    "ba8723ef855e46a9a489b50225bd1acb": {
     "model_module": "@jupyter-widgets/base",
     "model_name": "LayoutModel",
     "state": {
      "_model_module": "@jupyter-widgets/base",
      "_model_module_version": "1.2.0",
      "_model_name": "LayoutModel",
      "_view_count": null,
      "_view_module": "@jupyter-widgets/base",
      "_view_module_version": "1.2.0",
      "_view_name": "LayoutView",
      "align_content": null,
      "align_items": null,
      "align_self": null,
      "border": null,
      "bottom": null,
      "display": null,
      "flex": null,
      "flex_flow": null,
      "grid_area": null,
      "grid_auto_columns": null,
      "grid_auto_flow": null,
      "grid_auto_rows": null,
      "grid_column": null,
      "grid_gap": null,
      "grid_row": null,
      "grid_template_areas": null,
      "grid_template_columns": null,
      "grid_template_rows": null,
      "height": null,
      "justify_content": null,
      "justify_items": null,
      "left": null,
      "margin": null,
      "max_height": null,
      "max_width": null,
      "min_height": null,
      "min_width": null,
      "object_fit": null,
      "object_position": null,
      "order": null,
      "overflow": null,
      "overflow_x": null,
      "overflow_y": null,
      "padding": null,
      "right": null,
      "top": null,
      "visibility": null,
      "width": null
     }
    },
    "c14f1062d03c447a93a6cf85d944e093": {
     "model_module": "@jupyter-widgets/controls",
     "model_name": "LabelModel",
     "state": {
      "_dom_classes": [],
      "_model_module": "@jupyter-widgets/controls",
      "_model_module_version": "1.5.0",
      "_model_name": "LabelModel",
      "_view_count": null,
      "_view_module": "@jupyter-widgets/controls",
      "_view_module_version": "1.5.0",
      "_view_name": "LabelView",
      "description": "",
      "description_tooltip": null,
      "layout": "IPY_MODEL_1c164ba062484ac795b19c71632a6652",
      "placeholder": "​",
      "style": "IPY_MODEL_af90fbddd11b43518d019073b56cb6d9",
      "value": " 0.01MB of 0.01MB uploaded (0.00MB deduped)\r"
     }
    },
    "e87be027a35141a590e8173b3c2895f0": {
     "model_module": "@jupyter-widgets/controls",
     "model_name": "FloatProgressModel",
     "state": {
      "_dom_classes": [],
      "_model_module": "@jupyter-widgets/controls",
      "_model_module_version": "1.5.0",
      "_model_name": "FloatProgressModel",
      "_view_count": null,
      "_view_module": "@jupyter-widgets/controls",
      "_view_module_version": "1.5.0",
      "_view_name": "ProgressView",
      "bar_style": "",
      "description": "",
      "description_tooltip": null,
      "layout": "IPY_MODEL_5890ac78442d4427bf7e74b26fa68b3f",
      "max": 1,
      "min": 0,
      "orientation": "horizontal",
      "style": "IPY_MODEL_3a34f0eeb71c4197b4c232afe2bf3162",
      "value": 1
     }
    }
   }
  }
 },
 "nbformat": 4,
 "nbformat_minor": 4
}