{
 "cells": [
  {
   "cell_type": "code",
   "execution_count": 46,
   "id": "337bfe5b-96c4-40d6-a8fe-614c0804719c",
   "metadata": {},
   "outputs": [],
   "source": [
    "import os\n",
    "import pickle\n",
    "import numpy as np\n",
    "import gensim\n",
    "import wandb\n",
    "from pathlib import Path\n",
    "from gensim.models.word2vec import Word2Vec\n",
    "from gensim.models import KeyedVectors\n",
    "from opencc import OpenCC\n",
    "from utils.custom_tokenizer import load_jieba_tokenizer, load_janome_tokenizer\n",
    "\n",
    "os.environ[\"TOKENIZERS_PARALLELISM\"] = \"False\""
   ]
  },
  {
   "cell_type": "code",
   "execution_count": 27,
   "id": "674c26b3-cb40-4458-93f5-0b6381d25919",
   "metadata": {},
   "outputs": [],
   "source": [
    "cc = OpenCC(\"t2s\")"
   ]
  },
  {
   "cell_type": "code",
   "execution_count": 2,
   "id": "f4f7141c-5c97-4373-b642-24ce865cb250",
   "metadata": {},
   "outputs": [
    {
     "name": "stderr",
     "output_type": "stream",
     "text": [
      "\u001b[34m\u001b[1mwandb\u001b[0m: Currently logged in as: \u001b[33mwindsuzu\u001b[0m (use `wandb login --relogin` to force relogin)\n"
     ]
    },
    {
     "data": {
      "text/html": [
       "\n",
       "                Tracking run with wandb version 0.10.30<br/>\n",
       "                Syncing run <strong style=\"color:#cdcd00\">good-shadow-281</strong> to <a href=\"https://wandb.ai\" target=\"_blank\">Weights & Biases</a> <a href=\"https://docs.wandb.com/integrations/jupyter.html\" target=\"_blank\">(Documentation)</a>.<br/>\n",
       "                Project page: <a href=\"https://wandb.ai/windsuzu/phonetic-translation\" target=\"_blank\">https://wandb.ai/windsuzu/phonetic-translation</a><br/>\n",
       "                Run page: <a href=\"https://wandb.ai/windsuzu/phonetic-translation/runs/1locovnr\" target=\"_blank\">https://wandb.ai/windsuzu/phonetic-translation/runs/1locovnr</a><br/>\n",
       "                Run data is saved locally in <code>/home/windsuzu/phonetics-in-chinese-japanese-machine-translation/experiments/main/wandb/run-20210513_230913-1locovnr</code><br/><br/>\n",
       "            "
      ],
      "text/plain": [
       "<IPython.core.display.HTML object>"
      ]
     },
     "metadata": {},
     "output_type": "display_data"
    }
   ],
   "source": [
    "run = wandb.init(project='phonetic-translation', \n",
    "                 entity='windsuzu',\n",
    "                 group=\"word2vec\",\n",
    "                 job_type=\"analyze\")"
   ]
  },
  {
   "cell_type": "code",
   "execution_count": 7,
   "id": "1cffe5bd-0d0f-4725-9f51-1cb64cda3dcd",
   "metadata": {},
   "outputs": [
    {
     "name": "stderr",
     "output_type": "stream",
     "text": [
      "\u001b[34m\u001b[1mwandb\u001b[0m: Downloading large artifact language_specific_word2vec:latest, 254.19MB. 4 files... Done. 0:0:0\n"
     ]
    }
   ],
   "source": [
    "word2vec_art = run.use_artifact(\"language_specific_word2vec:latest\")\n",
    "word2vec_dir = word2vec_art.download()\n",
    "\n",
    "ch_word2vec_dir = Path(word2vec_dir) / \"ch.word2vec\"\n",
    "chp_word2vec_dir = Path(word2vec_dir) / \"chp.word2vec\"\n",
    "jp_word2vec_dir = Path(word2vec_dir) / \"jp.word2vec\"\n",
    "jpp_word2vec_dir = Path(word2vec_dir) / \"jpp.word2vec\""
   ]
  },
  {
   "cell_type": "code",
   "execution_count": 14,
   "id": "dcb6af08-5192-4971-ad17-319ca05c460f",
   "metadata": {},
   "outputs": [],
   "source": [
    "ch_word2vec = Word2Vec.load(str(ch_word2vec_dir)).wv\n",
    "chp_word2vec = Word2Vec.load(str(chp_word2vec_dir)).wv\n",
    "jp_word2vec = Word2Vec.load(str(jp_word2vec_dir)).wv\n",
    "jpp_word2vec = Word2Vec.load(str(jpp_word2vec_dir)).wv"
   ]
  },
  {
   "cell_type": "code",
   "execution_count": 20,
   "id": "c951a11f-974d-4cd2-9820-8165fde2abbf",
   "metadata": {},
   "outputs": [
    {
     "data": {
      "text/plain": [
       "[('ㄌㄞˊ ㄉㄠˋ', 0.337485671043396),\n",
       " ('ㄇㄧˊ', 0.3326432704925537),\n",
       " ('ㄋㄧㄣˊ', 0.3191660940647125),\n",
       " ('ㄒㄩㄝˋ ㄩ', 0.3157498836517334),\n",
       " ('ㄆㄤˋ', 0.31506600975990295),\n",
       " ('ㄒㄧㄣ ㄌㄧ˙', 0.3147471249103546),\n",
       " ('ㄔㄨㄣ˙', 0.31471967697143555),\n",
       " ('ㄇㄛ', 0.3123966157436371),\n",
       " ('ㄎㄨˇ', 0.3078014552593231),\n",
       " ('ㄨㄛˇ', 0.30537787079811096)]"
      ]
     },
     "execution_count": 20,
     "metadata": {},
     "output_type": "execute_result"
    }
   ],
   "source": [
    "chp_word2vec.most_similar(\"ㄋㄧˇ\")"
   ]
  },
  {
   "cell_type": "code",
   "execution_count": 28,
   "id": "22b8336e-5e9a-4770-968b-26c68e99e8cc",
   "metadata": {},
   "outputs": [
    {
     "data": {
      "text/plain": [
       "[('上述', 0.4571683704853058),\n",
       " ('这些', 0.4495928883552551),\n",
       " ('这一', 0.43432921171188354),\n",
       " ('这个', 0.4288410246372223),\n",
       " ('这样', 0.42115911841392517),\n",
       " ('有', 0.4114645719528198),\n",
       " ('即', 0.4106895625591278),\n",
       " ('那', 0.4105702042579651),\n",
       " ('这种', 0.4095064699649811),\n",
       " ('它', 0.40909796953201294)]"
      ]
     },
     "execution_count": 28,
     "metadata": {},
     "output_type": "execute_result"
    }
   ],
   "source": [
    "ch_word2vec.most_similar(cc.convert(\"這\"))"
   ]
  },
  {
   "cell_type": "code",
   "execution_count": 32,
   "id": "9c5227dc-140c-4d02-933f-b62fbc77a152",
   "metadata": {},
   "outputs": [
    {
     "data": {
      "text/plain": [
       "[('どう', 0.8308656215667725),\n",
       " ('否', 0.7216336131095886),\n",
       " ('かの', 0.6315698623657227),\n",
       " ('たか', 0.5826131105422974),\n",
       " ('かも', 0.5628167986869812),\n",
       " ('かが', 0.5509108901023865),\n",
       " ('どの', 0.48146137595176697),\n",
       " ('かに', 0.4794462323188782),\n",
       " ('うるか', 0.463559627532959),\n",
       " ('どれ', 0.4630514681339264)]"
      ]
     },
     "execution_count": 32,
     "metadata": {},
     "output_type": "execute_result"
    }
   ],
   "source": [
    "jp_word2vec.most_similar(\"か\")"
   ]
  },
  {
   "cell_type": "code",
   "execution_count": 33,
   "id": "52ebf116-524a-4a31-a758-e92891f8de11",
   "metadata": {},
   "outputs": [
    {
     "data": {
      "text/plain": [
       "[('かの', 0.4391637146472931),\n",
       " ('が', 0.4341663420200348),\n",
       " ('かが', 0.42150723934173584),\n",
       " ('な', 0.4179091453552246),\n",
       " ('を', 0.41109925508499146),\n",
       " ('も', 0.40225765109062195),\n",
       " ('に', 0.4002080261707306),\n",
       " ('する', 0.3997371196746826),\n",
       " ('こと', 0.39620280265808105),\n",
       " ('てき', 0.395681768655777)]"
      ]
     },
     "execution_count": 33,
     "metadata": {},
     "output_type": "execute_result"
    }
   ],
   "source": [
    "jpp_word2vec.most_similar(\"か\")"
   ]
  },
  {
   "cell_type": "code",
   "execution_count": 36,
   "id": "15f63fe5-b996-47a2-9170-7ce21a5c38a3",
   "metadata": {},
   "outputs": [
    {
     "name": "stderr",
     "output_type": "stream",
     "text": [
      "\u001b[34m\u001b[1mwandb\u001b[0m: Downloading large artifact language_specific_embedding:latest, 732.42MB. 8 files... Done. 0:0:0\n"
     ]
    }
   ],
   "source": [
    "embedding_art = run.use_artifact(\"language_specific_embedding:latest\")\n",
    "embedding_dir = word2vec_art.download()\n",
    "\n",
    "tokenizer_art = run.use_artifact(\"language_specific:latest\")\n",
    "tokenizer_dir = tokenizer_art.download()"
   ]
  },
  {
   "cell_type": "code",
   "execution_count": 48,
   "id": "1726f161-e909-480c-bf35-9a58f2fe3b0b",
   "metadata": {},
   "outputs": [],
   "source": [
    "ch_tokenzier = load_jieba_tokenizer(Path(tokenizer_dir) / \"jieba_tokenizer.json\")\n",
    "ch_meta_embedding = np.load(Path(embedding_dir) / \"ch_meta_embedding.npy\")"
   ]
  },
  {
   "cell_type": "code",
   "execution_count": 72,
   "id": "e0b86086-97b8-4d1b-b68c-bfa424898643",
   "metadata": {},
   "outputs": [],
   "source": [
    "vocab = [None]*32000\n",
    "for k, i in jieba_tokenzier.get_vocab().items():\n",
    "    vocab[i] = k"
   ]
  },
  {
   "cell_type": "code",
   "execution_count": 74,
   "id": "382c22b8-13cd-439f-92d1-0425ee52efb0",
   "metadata": {},
   "outputs": [],
   "source": [
    "chm_word2vec = KeyedVectors(300)\n",
    "chm_word2vec.add_vectors(vocab, ch_meta_embedding)\n",
    "\n",
    "# for key, idx in jieba_tokenzier.get_vocab().items():\n",
    "#     chm_word2vec.add_vector(key, ch_meta_embedding[idx])"
   ]
  },
  {
   "cell_type": "code",
   "execution_count": 79,
   "id": "ceca9842-fb80-4d2c-9bfa-ce881fee46c8",
   "metadata": {},
   "outputs": [
    {
     "data": {
      "text/plain": [
       "[('浙', 0.5726149082183838),\n",
       " ('有', 0.5041649341583252),\n",
       " ('这一', 0.4879700839519501),\n",
       " ('这个', 0.4818565845489502),\n",
       " ('这种', 0.4598851799964905),\n",
       " ('这是', 0.4543885290622711),\n",
       " ('上述', 0.4490727484226227),\n",
       " ('这些', 0.4464312195777893),\n",
       " ('这样', 0.44638335704803467),\n",
       " ('它', 0.4336070716381073)]"
      ]
     },
     "execution_count": 79,
     "metadata": {},
     "output_type": "execute_result"
    }
   ],
   "source": [
    "chm_word2vec.most_similar(cc.convert(\"這\"))"
   ]
  },
  {
   "cell_type": "code",
   "execution_count": null,
   "id": "cb515142-4e47-4ab2-b7f4-ed69ae140301",
   "metadata": {},
   "outputs": [],
   "source": []
  }
 ],
 "metadata": {
  "kernelspec": {
   "display_name": "Python 3",
   "language": "python",
   "name": "python3"
  },
  "language_info": {
   "codemirror_mode": {
    "name": "ipython",
    "version": 3
   },
   "file_extension": ".py",
   "mimetype": "text/x-python",
   "name": "python",
   "nbconvert_exporter": "python",
   "pygments_lexer": "ipython3",
   "version": "3.8.5"
  }
 },
 "nbformat": 4,
 "nbformat_minor": 5
}
