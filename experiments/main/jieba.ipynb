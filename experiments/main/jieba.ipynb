{
 "cells": [
  {
   "cell_type": "code",
   "execution_count": 1,
   "metadata": {},
   "outputs": [],
   "source": [
    "import jieba"
   ]
  },
  {
   "cell_type": "code",
   "execution_count": 2,
   "metadata": {},
   "outputs": [
    {
     "name": "stderr",
     "output_type": "stream",
     "text": [
      "Building prefix dict from the default dictionary ...\n",
      "Loading model from cache /tmp/jieba.cache\n",
      "Loading model cost 1.558 seconds.\n",
      "Prefix dict has been built successfully.\n"
     ]
    },
    {
     "name": "stdout",
     "output_type": "stream",
     "text": [
      "Full Mode: 叶面/ 叶面积/ 面积/ 使用/ 用电/ 电动/ 叶面/ 叶面积/ 面积/ 计/ （ＡＡＭ－８，/ 林/ 电工/ ）/ 测量/ ，/ 茎/ 的/ 断面/ 面积/ 使用/ 数字/ 数字卡/ 卡尺/ （ＣＤ－１５Ｃ，Ｍｉｔｕｔｏｙｏ）/ 测量/ 茎/ 的/ 长径/ 及/ 短/ 径/ ，/ 取/ 两者/ 的/ 平均/ 平均值/ 均值/ 计算/ 算出/ 圆/ 的/ 面积/ 作为/ 茎/ 的/ 断面/ 面积/ 。\n",
      "Default Mode: 叶面积/ 使用/ 电动/ 叶面积/ 计/ （/ Ａ/ Ａ/ Ｍ/ －/ ８/ ，/ 林/ 电工/ ）/ 测量/ ，/ 茎/ 的/ 断/ 面积/ 使用/ 数字/ 卡尺/ （/ Ｃ/ Ｄ/ －/ １/ ５/ Ｃ/ ，/ Ｍ/ ｉ/ ｔ/ ｕ/ ｔ/ ｏ/ ｙ/ ｏ/ ）/ 测量/ 茎/ 的/ 长径/ 及/ 短径/ ，/ 取/ 两者/ 的/ 平均值/ 计算/ 出圆/ 的/ 面积/ 作为/ 茎/ 的/ 断/ 面积/ 。\n"
     ]
    }
   ],
   "source": [
    "source = \"叶面积使用电动叶面积计（ＡＡＭ－８，林电工）测量，茎的断面积使用数字卡尺（ＣＤ－１５Ｃ，Ｍｉｔｕｔｏｙｏ）测量茎的长径及短径，取两者的平均值计算出圆的面积作为茎的断面积。\"\n",
    "seg_list = jieba.cut(source, cut_all=True)\n",
    "print(\"Full Mode: \" + \"/ \".join(seg_list))  # 全模式\n",
    "\n",
    "seg_list = jieba.cut(source, cut_all=False)\n",
    "print(\"Default Mode: \" + \"/ \".join(seg_list))  # 精确模式"
   ]
  }
 ],
 "metadata": {
  "kernelspec": {
   "display_name": "Python 3.8.5 64-bit ('base': conda)",
   "name": "python385jvsc74a57bd079b9df49ac430b00ede86aa066ef9244a5bf89bf4dad1c74865db678bf985bb6"
  },
  "language_info": {
   "codemirror_mode": {
    "name": "ipython",
    "version": 3
   },
   "file_extension": ".py",
   "mimetype": "text/x-python",
   "name": "python",
   "nbconvert_exporter": "python",
   "pygments_lexer": "ipython3",
   "version": "3.8.5"
  },
  "metadata": {
   "interpreter": {
    "hash": "31f2aee4e71d21fbe5cf8b01ff0e069b9275f58929596ceb00d14d90e3e16cd6"
   }
  }
 },
 "nbformat": 4,
 "nbformat_minor": 5
}