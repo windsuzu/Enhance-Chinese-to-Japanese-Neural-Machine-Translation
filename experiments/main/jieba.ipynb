{
 "cells": [
  {
   "cell_type": "code",
   "execution_count": 1,
   "id": "60dd2be4-f6b5-42c4-8c40-1c3133e680ac",
   "metadata": {},
   "outputs": [],
   "source": [
    "import jieba"
   ]
  },
  {
   "cell_type": "code",
   "execution_count": 13,
   "id": "c64ee1e4-d798-441c-9b16-284ce00eca2c",
   "metadata": {},
   "outputs": [
    {
     "name": "stdout",
     "output_type": "stream",
     "text": [
      "Full Mode: 叶面/ 叶面积/ 面积/ 使用/ 用电/ 电动/ 叶面/ 叶面积/ 面积/ 计/ （ＡＡＭ－８，/ 林/ 电工/ ）/ 测量/ ，/ 茎/ 的/ 断面/ 面积/ 使用/ 数字/ 数字卡/ 卡尺/ （ＣＤ－１５Ｃ，Ｍｉｔｕｔｏｙｏ）/ 测量/ 茎/ 的/ 长径/ 及/ 短/ 径/ ，/ 取/ 两者/ 的/ 平均/ 平均值/ 均值/ 计算/ 算出/ 圆/ 的/ 面积/ 作为/ 茎/ 的/ 断面/ 面积/ 。\n",
      "Default Mode: 叶面积/ 使用/ 电动/ 叶面积/ 计/ （/ Ａ/ Ａ/ Ｍ/ －/ ８/ ，/ 林/ 电工/ ）/ 测量/ ，/ 茎/ 的/ 断/ 面积/ 使用/ 数字/ 卡尺/ （/ Ｃ/ Ｄ/ －/ １/ ５/ Ｃ/ ，/ Ｍ/ ｉ/ ｔ/ ｕ/ ｔ/ ｏ/ ｙ/ ｏ/ ）/ 测量/ 茎/ 的/ 长径/ 及/ 短径/ ，/ 取/ 两者/ 的/ 平均值/ 计算/ 出圆/ 的/ 面积/ 作为/ 茎/ 的/ 断/ 面积/ 。\n"
     ]
    }
   ],
   "source": [
    "source = \"叶面积使用电动叶面积计（ＡＡＭ－８，林电工）测量，茎的断面积使用数字卡尺（ＣＤ－１５Ｃ，Ｍｉｔｕｔｏｙｏ）测量茎的长径及短径，取两者的平均值计算出圆的面积作为茎的断面积。\"\n",
    "seg_list = jieba.cut(source, cut_all=True)\n",
    "print(\"Full Mode: \" + \"/ \".join(seg_list))  # 全模式\n",
    "\n",
    "seg_list = jieba.cut(source, cut_all=False)\n",
    "print(\"Default Mode: \" + \"/ \".join(seg_list))  # 精确模式"
   ]
  },
  {
   "cell_type": "code",
   "execution_count": null,
   "id": "5f92be2f-d8a2-4db3-97b1-cc8f0516c6ce",
   "metadata": {},
   "outputs": [],
   "source": []
  }
 ],
 "metadata": {
  "kernelspec": {
   "display_name": "Python 3",
   "language": "python",
   "name": "python3"
  },
  "language_info": {
   "codemirror_mode": {
    "name": "ipython",
    "version": 3
   },
   "file_extension": ".py",
   "mimetype": "text/x-python",
   "name": "python",
   "nbconvert_exporter": "python",
   "pygments_lexer": "ipython3",
   "version": "3.8.5"
  }
 },
 "nbformat": 4,
 "nbformat_minor": 5
}
